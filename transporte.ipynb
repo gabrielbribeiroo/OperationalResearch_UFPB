{
  "nbformat": 4,
  "nbformat_minor": 0,
  "metadata": {
    "colab": {
      "provenance": [],
      "include_colab_link": true
    },
    "kernelspec": {
      "name": "python3",
      "display_name": "Python 3"
    },
    "language_info": {
      "name": "python"
    }
  },
  "cells": [
    {
      "cell_type": "markdown",
      "metadata": {
        "id": "view-in-github",
        "colab_type": "text"
      },
      "source": [
        "<a href=\"https://colab.research.google.com/github/gabrielbribeiroo/OperationalResearch_UFPB/blob/main/transporte.ipynb\" target=\"_parent\"><img src=\"https://colab.research.google.com/assets/colab-badge.svg\" alt=\"Open In Colab\"/></a>"
      ]
    },
    {
      "cell_type": "markdown",
      "source": [
        "# Modelo geral para o problema do transporte"
      ],
      "metadata": {
        "id": "bWRQiUiM5rAO"
      }
    },
    {
      "cell_type": "markdown",
      "source": [
        "## Instalação e importação do pacote mip"
      ],
      "metadata": {
        "id": "XA20GmJw3-uZ"
      }
    },
    {
      "cell_type": "code",
      "execution_count": null,
      "metadata": {
        "colab": {
          "base_uri": "https://localhost:8080/"
        },
        "id": "beMNpmT1uuGm",
        "outputId": "7440aada-400b-4f9e-d24f-e76cb5bb8645"
      },
      "outputs": [
        {
          "output_type": "stream",
          "name": "stdout",
          "text": [
            "Collecting mip\n",
            "  Downloading mip-1.15.0-py3-none-any.whl.metadata (21 kB)\n",
            "Collecting cffi==1.15.* (from mip)\n",
            "  Downloading cffi-1.15.1-cp311-cp311-manylinux_2_17_x86_64.manylinux2014_x86_64.whl.metadata (1.1 kB)\n",
            "Requirement already satisfied: pycparser in /usr/local/lib/python3.11/dist-packages (from cffi==1.15.*->mip) (2.22)\n",
            "Downloading mip-1.15.0-py3-none-any.whl (15.3 MB)\n",
            "\u001b[2K   \u001b[90m━━━━━━━━━━━━━━━━━━━━━━━━━━━━━━━━━━━━━━━━\u001b[0m \u001b[32m15.3/15.3 MB\u001b[0m \u001b[31m65.9 MB/s\u001b[0m eta \u001b[36m0:00:00\u001b[0m\n",
            "\u001b[?25hDownloading cffi-1.15.1-cp311-cp311-manylinux_2_17_x86_64.manylinux2014_x86_64.whl (462 kB)\n",
            "\u001b[2K   \u001b[90m━━━━━━━━━━━━━━━━━━━━━━━━━━━━━━━━━━━━━━━━\u001b[0m \u001b[32m462.6/462.6 kB\u001b[0m \u001b[31m23.0 MB/s\u001b[0m eta \u001b[36m0:00:00\u001b[0m\n",
            "\u001b[?25hInstalling collected packages: cffi, mip\n",
            "  Attempting uninstall: cffi\n",
            "    Found existing installation: cffi 1.17.1\n",
            "    Uninstalling cffi-1.17.1:\n",
            "      Successfully uninstalled cffi-1.17.1\n",
            "\u001b[31mERROR: pip's dependency resolver does not currently take into account all the packages that are installed. This behaviour is the source of the following dependency conflicts.\n",
            "pygit2 1.18.0 requires cffi>=1.17.0, but you have cffi 1.15.1 which is incompatible.\u001b[0m\u001b[31m\n",
            "\u001b[0mSuccessfully installed cffi-1.15.1 mip-1.15.0\n"
          ]
        }
      ],
      "source": [
        "!pip install mip\n",
        "\n",
        "from mip import *"
      ]
    },
    {
      "cell_type": "markdown",
      "source": [
        "\n",
        "\n",
        "## Leitura dos dados\n"
      ],
      "metadata": {
        "id": "___iDKK44EdN"
      }
    },
    {
      "cell_type": "code",
      "source": [
        "def readInstance(filePath):\n",
        "    f = open(filePath, \"r\")\n",
        "\n",
        "    l = f.readline()\n",
        "    nb_industries, nb_cities = int(l.split()[0]), int(l.split()[1])\n",
        "\n",
        "    costs = []\n",
        "    for i in range(nb_industries):\n",
        "        l = f.readline()\n",
        "        costs.append([float(c) for c in l.split()])\n",
        "\n",
        "    l = f.readline()\n",
        "    capacities = [float(c) for c in l.split()]\n",
        "\n",
        "    l = f.readline()\n",
        "    demands = [float(d) for d in l.split()]\n",
        "\n",
        "    f.close()\n",
        "\n",
        "    return nb_industries, nb_cities, costs, capacities, demands"
      ],
      "metadata": {
        "id": "pJl5QfHn0YAd"
      },
      "execution_count": null,
      "outputs": []
    },
    {
      "cell_type": "markdown",
      "source": [
        "## Criação do modelo"
      ],
      "metadata": {
        "id": "7NBwBUB-0Ii7"
      }
    },
    {
      "cell_type": "code",
      "source": [
        "def createModel(nb_industries, nb_cities, costs, capacities, demands):\n",
        "\n",
        "    model = Model(sense=MINIMIZE, solver_name=CBC)\n",
        "\n",
        "    x = [[model.add_var(var_type=\"CONTINUOUS\",\n",
        "                        lb=0.0, name=\"x_\" + str(i) + \"_\" + str(j)) for j in range(nb_cities)] for i in range(nb_industries)]\n",
        "\n",
        "    model.objective = xsum(costs[i][j]*x[i][j]\n",
        "                           for i in range(nb_industries) for j in range(nb_cities))\n",
        "\n",
        "    for i in range(nb_industries):\n",
        "        model += xsum(x[i][j] for j in range(nb_cities)\n",
        "                      ) <= capacities[i], \"CAP_\" + str(i)\n",
        "\n",
        "    for j in range(nb_cities):\n",
        "        model += xsum(x[i][j] for i in range(nb_industries)\n",
        "                      ) >= demands[j], \"DEM_\" + str(j)\n",
        "    return model\n",
        "\n"
      ],
      "metadata": {
        "id": "0Qq7qH864NdX"
      },
      "execution_count": null,
      "outputs": []
    },
    {
      "cell_type": "markdown",
      "source": [
        "## Resolução com Python-MIP"
      ],
      "metadata": {
        "id": "gOSVfM7b5B2l"
      }
    },
    {
      "cell_type": "code",
      "source": [
        "from google.colab import drive\n",
        "drive.mount('/content/drive/')\n"
      ],
      "metadata": {
        "id": "1z_MOni4loRc",
        "outputId": "bbc31459-8046-4ea1-85cc-28798e8ca24c",
        "colab": {
          "base_uri": "https://localhost:8080/"
        }
      },
      "execution_count": null,
      "outputs": [
        {
          "output_type": "stream",
          "name": "stdout",
          "text": [
            "Mounted at /content/drive/\n"
          ]
        }
      ]
    },
    {
      "cell_type": "code",
      "source": [
        "\n",
        "nb_industries, nb_cities, costs, capacities, demands = readInstance(\"instance.txt\")\n",
        "model = createModel(nb_industries, nb_cities, costs, capacities, demands)\n",
        "\n",
        "model.write(\"model.lp\")\n",
        "with open(\"model.lp\") as f: # Lê e exibe conteúdo do arquivo\n",
        "  print(f.read())\n",
        "\n",
        "status = model.optimize()\n",
        "\n",
        "print(\"Status = \", status)\n",
        "print(\"Solution value  = \", model.objective_value)\n",
        "print(\"Solution:\")\n",
        "for v in model.vars:\n",
        "    if v.x > 0.00001:\n",
        "        print(v.name, \" = \", v.x)"
      ],
      "metadata": {
        "colab": {
          "base_uri": "https://localhost:8080/"
        },
        "id": "ULVb_jQQ4_23",
        "outputId": "8ad5ddf3-5f1c-49a5-e492-6a76ca3f5921"
      },
      "execution_count": null,
      "outputs": [
        {
          "output_type": "stream",
          "name": "stdout",
          "text": [
            "x_0_0\n",
            "\\Problem name: \n",
            "\n",
            "Minimize\n",
            "OBJROW: 60 x_0_0 + 220 x_0_1 + 300 x_0_2 + 270 x_0_3 + 450 x_0_4 + 95 x_1_0 + 45 x_1_1 + 200 x_1_2 + 260 x_1_3 + 230 x_1_4\n",
            " + 450 x_2_0 + 300 x_2_1 + 250 x_2_2 + 100 x_2_3 + 90 x_2_4\n",
            "Subject To\n",
            "CAP_0:  x_0_0 + x_0_1 + x_0_2 + x_0_3 + x_0_4 <= 1100\n",
            "CAP_1:  x_1_0 + x_1_1 + x_1_2 + x_1_3 + x_1_4 <= 1300\n",
            "CAP_2:  x_2_0 + x_2_1 + x_2_2 + x_2_3 + x_2_4 <= 1100\n",
            "DEM_0:  x_0_0 + x_1_0 + x_2_0 >= 400\n",
            "DEM_1:  x_0_1 + x_1_1 + x_2_1 >= 200\n",
            "DEM_2:  x_0_2 + x_1_2 + x_2_2 >= 900\n",
            "DEM_3:  x_0_3 + x_1_3 + x_2_3 >= 1200\n",
            "DEM_4:  x_0_4 + x_1_4 + x_2_4 >= 750\n",
            "Bounds\n",
            "End\n",
            "\n",
            "Status =  OptimizationStatus.OPTIMAL\n",
            "Solution value  =  539000.0\n",
            "Solution:\n",
            "x_0_0  =  400.0\n",
            "x_0_3  =  650.0\n",
            "x_1_1  =  200.0\n",
            "x_1_2  =  900.0\n",
            "x_1_4  =  200.0\n",
            "x_2_3  =  550.0\n",
            "x_2_4  =  550.0\n"
          ]
        }
      ]
    }
  ]
}