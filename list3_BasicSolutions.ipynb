{
 "cells": [
  {
   "cell_type": "markdown",
   "id": "56983290",
   "metadata": {},
   "source": [
    "Consider the following linear programming problem:\n",
    "max 3x1 + 5x2\n",
    "S. t.:\n",
    "x1 ≤ 4\n",
    "x2 ≤ 6\n",
    "3x1 + 2x2 ≤ 18\n",
    "x1, x2, ≥ 0."
   ]
  },
  {
   "cell_type": "code",
   "execution_count": null,
   "id": "2101eacb",
   "metadata": {},
   "outputs": [],
   "source": [
    "# installing and importing the mip package\n",
    "!pip install mip\n",
    "\n",
    "from mip import *"
   ]
  },
  {
   "cell_type": "code",
   "execution_count": null,
   "id": "27499634",
   "metadata": {},
   "outputs": [],
   "source": [
    "model = Model(sense=MAXIMIZE, solver_name=CBC) # implements the model\n",
    "\n",
    "# create/add variables to the model\n",
    "x = {i: model.add_var(var_type=CONTINUOUS, name=f'x_{i}', lb=0.0) for i in range(2)}\n",
    "\n",
    "model.objective = 3*x[0] + 5*x[1] # objective function (maximize profit)\n",
    "\n",
    "# constraints\n",
    "model += x[0] <= 4\n",
    "model += x[1] <= 6\n",
    "model += 3*x[0] + 2*x[1] <= 18\n",
    "\n",
    "model.write(\"model.lp\") # saves the model to a file\n",
    "with open(\"model.lp\") as f: # reads and displays the file content\n",
    "  print(f.read())"
   ]
  },
  {
   "cell_type": "code",
   "execution_count": null,
   "id": "93b0a1f5",
   "metadata": {},
   "outputs": [],
   "source": [
    "def solve(model):\n",
    "  status = model.optimize()\n",
    "\n",
    "  print(\"Status = \", status)\n",
    "  print(f\"Solution value  = {model.objective_value:.2f}\\n\")\n",
    "\n",
    "  print(\"Solution:\")\n",
    "  for v in model.vars:\n",
    "      print(f\"{v.name} = {v.x:.2f}\")\n",
    "\n",
    "solve(model)"
   ]
  }
 ],
 "metadata": {
  "language_info": {
   "name": "python"
  }
 },
 "nbformat": 4,
 "nbformat_minor": 5
}
