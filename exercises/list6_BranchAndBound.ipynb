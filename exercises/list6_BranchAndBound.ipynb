{
 "cells": [
  {
   "cell_type": "code",
   "execution_count": null,
   "id": "5bdaa837",
   "metadata": {},
   "outputs": [],
   "source": [
    "# installing and importing the mip package\n",
    "!pip install mip\n",
    "\n",
    "from mip import *"
   ]
  },
  {
   "cell_type": "code",
   "execution_count": null,
   "id": "6adb262d",
   "metadata": {},
   "outputs": [],
   "source": [
    "def solve(model):\n",
    "  status = model.optimize()\n",
    "\n",
    "  print(\"Status = \", status)\n",
    "  if status != OptimizationStatus.OPTIMAL:\n",
    "    return\n",
    "\n",
    "  print(f\"Solution value  = {model.objective_value:.4f}\\n\")\n",
    "\n",
    "  print(\"Solution:\")\n",
    "  for v in model.vars:\n",
    "    if v.x > 0.001:\n",
    "      print(f\"{v.name} = {v.x:.4f}\")"
   ]
  },
  {
   "cell_type": "code",
   "execution_count": null,
   "id": "295f023e",
   "metadata": {},
   "outputs": [],
   "source": [
    "def save(model, filename):\n",
    "  model.write(filename)\n",
    "  with open(filename, \"r\") as f:\n",
    "    print(f.read())"
   ]
  },
  {
   "cell_type": "markdown",
   "id": "35756054",
   "metadata": {},
   "source": [
    "1."
   ]
  },
  {
   "cell_type": "code",
   "execution_count": null,
   "id": "8901fd69",
   "metadata": {},
   "outputs": [],
   "source": [
    "n = 3"
   ]
  },
  {
   "cell_type": "code",
   "execution_count": null,
   "id": "6fbc8e36",
   "metadata": {},
   "outputs": [],
   "source": [
    "model = Model(sense=MAXIMIZE, solver_name=CBC)\n",
    "\n",
    "x = [model.add_var(var_type=CONTINUOUS, lb=0, name = f\"x_{i+1}\") for i in range(n)]\n",
    "\n",
    "model.objective = 7*x[0] + 13*x[1] + 16*x[2]\n",
    "\n",
    "model += 8*x[0] + 12*x[1] + 5*x[2] <= 20\n",
    "model += 6*x[0] + 18*x[1] + 12*x[2] <= 190\n",
    "model += 10*x[0] + 6*x[1] + 16*x[2] <= 170\n",
    "model += 1*x[0] + 14*x[1] + 2*x[2] <= 30\n",
    "model += 18*x[0] + 1*x[1] + 5*x[2] <= 200\n",
    "model += 9*x[0] + 3*x[1] + 4*x[2] <= 50\n",
    "model += x[2] <= 4\n",
    "\n",
    "save(model, \"model.lp\")"
   ]
  },
  {
   "cell_type": "code",
   "execution_count": null,
   "id": "3ff9de78",
   "metadata": {},
   "outputs": [],
   "source": [
    "solve(model)"
   ]
  },
  {
   "cell_type": "markdown",
   "id": "2939521d",
   "metadata": {},
   "source": [
    "2."
   ]
  },
  {
   "cell_type": "code",
   "execution_count": null,
   "id": "d64e1340",
   "metadata": {},
   "outputs": [],
   "source": [
    "n = 3"
   ]
  },
  {
   "cell_type": "code",
   "execution_count": null,
   "id": "807dd8c2",
   "metadata": {},
   "outputs": [],
   "source": [
    "model = Model(sense=MAXIMIZE, solver_name=CBC)\n",
    "\n",
    "x = [model.add_var(var_type=CONTINUOUS, lb=0, name = f\"x_{i+1}\") for i in range(n)]\n",
    "\n",
    "model.objective = 17*x[0] + 9*x[1] + 4*x[2]\n",
    "\n",
    "model += 7*x[0] + 3*x[1] + 19*x[2] <= 200\n",
    "model += 3*x[0] + 13*x[1] + 9*x[2] <= 30\n",
    "model += 6*x[0] + 5*x[1] + 15*x[2] <= 10\n",
    "model += 4*x[0] + 9*x[1] + 1*x[2] <= 130\n",
    "model += x[0] <= 1\n",
    "model += x[1] >= 1\n",
    "model += x[0] <= 0\n",
    "\n",
    "save(model, \"model.lp\")"
   ]
  },
  {
   "cell_type": "code",
   "execution_count": null,
   "id": "ce48210b",
   "metadata": {},
   "outputs": [],
   "source": [
    "solve(model)"
   ]
  }
 ],
 "metadata": {
  "language_info": {
   "name": "python"
  }
 },
 "nbformat": 4,
 "nbformat_minor": 5
}
