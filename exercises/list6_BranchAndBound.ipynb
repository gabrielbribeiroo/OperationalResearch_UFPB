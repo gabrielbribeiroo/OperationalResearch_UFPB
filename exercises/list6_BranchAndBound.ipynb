{
 "cells": [
  {
   "cell_type": "code",
   "execution_count": null,
   "id": "5bdaa837",
   "metadata": {},
   "outputs": [],
   "source": [
    "# installing and importing the mip package\n",
    "!pip install mip\n",
    "\n",
    "from mip import *"
   ]
  },
  {
   "cell_type": "code",
   "execution_count": null,
   "id": "6adb262d",
   "metadata": {},
   "outputs": [],
   "source": [
    "def solve(model):\n",
    "  status = model.optimize()\n",
    "\n",
    "  print(\"Status = \", status)\n",
    "  if status != OptimizationStatus.OPTIMAL:\n",
    "    return\n",
    "\n",
    "  print(f\"Solution value  = {model.objective_value:.4f}\\n\")\n",
    "\n",
    "  print(\"Solution:\")\n",
    "  for v in model.vars:\n",
    "    if v.x > 0.001:\n",
    "      print(f\"{v.name} = {v.x:.4f}\")"
   ]
  },
  {
   "cell_type": "code",
   "execution_count": null,
   "id": "295f023e",
   "metadata": {},
   "outputs": [],
   "source": [
    "def save(model, filename):\n",
    "  model.write(filename)\n",
    "  with open(filename, \"r\") as f:\n",
    "    print(f.read())"
   ]
  }
 ],
 "metadata": {
  "language_info": {
   "name": "python"
  }
 },
 "nbformat": 4,
 "nbformat_minor": 5
}
