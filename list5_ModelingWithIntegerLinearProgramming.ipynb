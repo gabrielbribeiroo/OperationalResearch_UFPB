{
 "cells": [
  {
   "cell_type": "markdown",
   "id": "374f7cd8",
   "metadata": {},
   "source": [
    "# Linear Programming Problem Set\n",
    "\n",
    "This notebook contains a collection of Linear Programming (LP) and Integer Linear Programming (ILP) modeling problems.  \n",
    "Each section presents one problem description that can be later formulated and solved using optimization tools in Python."
   ]
  },
  {
   "cell_type": "code",
   "execution_count": null,
   "id": "181a9357",
   "metadata": {},
   "outputs": [],
   "source": [
    "# installing and importing the mip package\n",
    "!pip install mip\n",
    "\n",
    "from mip import *"
   ]
  },
  {
   "cell_type": "code",
   "execution_count": null,
   "id": "178eed4c",
   "metadata": {},
   "outputs": [],
   "source": [
    "def solve(model):\n",
    "  status = model.optimize()\n",
    "\n",
    "  print(\"Status = \", status)\n",
    "  if status != OptimizationStatus.OPTIMAL:\n",
    "    return\n",
    "\n",
    "  print(f\"Solution value  = {model.objective_value:.2f}\\n\")\n",
    "\n",
    "  print(\"Solution:\")\n",
    "  for v in model.vars:\n",
    "    if v.x > 0.001:\n",
    "      print(f\"{v.name} = {v.x:.2f}\")"
   ]
  },
  {
   "cell_type": "code",
   "execution_count": null,
   "id": "d69ee355",
   "metadata": {},
   "outputs": [],
   "source": [
    "def save(model, filename):\n",
    "  model.write(filename)\n",
    "  with open(filename, \"r\") as f:\n",
    "    print(f.read())"
   ]
  },
  {
   "cell_type": "markdown",
   "id": "cb55edbf",
   "metadata": {},
   "source": [
    "## Section 1 - Steel Company (Transportation with Fixed Costs)\n",
    "A steel company has 3 plants, each requiring a minimum monthly amount of ore. The company buys ore from 3 mines with maximum monthly production capacities.  \n",
    "There is a fixed cost per mine plus a transport cost depending on the mine-plant pair.  \n",
    "Formulate an optimization model to minimize the total purchase cost."
   ]
  },
  {
   "cell_type": "code",
   "execution_count": null,
   "id": "07f70e35",
   "metadata": {},
   "outputs": [],
   "source": [
    "n = 3"
   ]
  },
  {
   "cell_type": "code",
   "execution_count": null,
   "id": "e637c05c",
   "metadata": {},
   "outputs": [],
   "source": [
    "model = Model(sense=MINIMIZE, solver_name=CBC)\n",
    "\n",
    "x = [[model.add_var(var_type=INTEGER, lb=0, name = f\"x_{i+1}_{j+1}\") for j in range(n)] for i in range(n)]\n",
    "y = [model.add_var(var_type=BINARY, name = f\"y_{i+1}\") for i in range(n)]\n",
    "\n",
    "model.objective = 10*x[0][0] + 8*x[1][0] + 13*x[2][0] + 7*x[0][1] + 9*x[1][1] + \\\n",
    "                  + 16*x[2][1] + 6.5*x[0][2] + 10.8*x[1][2] + 12.6*x[2][2] + \\\n",
    "                  + 50000*y[0] + 40000*y[1] + 30000*y[2]\n",
    "\n",
    "model += x[0][0] + x[1][0] + x[2][0] == 12300\n",
    "model += x[0][1] + x[1][1] + x[2][1] == 15400\n",
    "model += x[0][2] + x[1][2] + x[2][2] == 13300\n",
    "\n",
    "model += x[0][0] + x[0][1] + x[0][2] <= 11500*y[0]\n",
    "model += x[1][0] + x[1][1] + x[1][2] <= 16500*y[1]\n",
    "model += x[2][0] + x[2][1] + x[2][2] <= 13000*y[2]\n",
    "\n",
    "save(model, \"model.lp\")"
   ]
  },
  {
   "cell_type": "code",
   "execution_count": null,
   "id": "3a76f9d7",
   "metadata": {},
   "outputs": [],
   "source": [
    "solve(model)"
   ]
  },
  {
   "cell_type": "markdown",
   "id": "52c972cc",
   "metadata": {},
   "source": [
    "## Section 5 - Agricultural Planning\n",
    "Three agricultural regions with different land and water availability can produce wheat, cotton, and soybeans.  \n",
    "Each crop has water requirements, land constraints, and profit per unit.  \n",
    "Formulate a linear program to allocate production for maximum profit."
   ]
  },
  {
   "cell_type": "code",
   "execution_count": null,
   "id": "90c2c704",
   "metadata": {},
   "outputs": [],
   "source": [
    "n = 3"
   ]
  },
  {
   "cell_type": "code",
   "execution_count": null,
   "id": "2fda0fcb",
   "metadata": {},
   "outputs": [],
   "source": [
    "model = Model(sense=MAXIMIZE, solver_name=CBC)\n",
    "\n",
    "x = [[model.add_var(var_type=INTEGER, lb=0, name = f\"x_{i+1}_{j+1}\") for j in range(n)] for i in range(n)]\n",
    "\n",
    "model.objective = 400*(x[0][0] + x[0][1] + x[0][2]) + \\\n",
    "                  + 300*(x[1][0] + x[1][1] + x[1][2]) + \\\n",
    "                  + 100*(x[2][0] + x[2][1] + x[2][2])\n",
    "                  \n",
    "model += x[0][0] + x[1][0] + x[2][0] <= 400\n",
    "model += x[0][1] + x[1][1] + x[2][1] <= 600\n",
    "model += x[0][2] + x[1][2] + x[2][2] <= 300\n",
    "  \n",
    "model += x[0][0] + x[0][1] + x[0][2] <= 600\n",
    "model += x[1][0] + x[1][1] + x[1][2] == 500\n",
    "model += x[2][0] + x[2][1] + x[2][2] == 325\n",
    "\n",
    "model += 3*x[0][0] + 2*x[1][0] + x[2][0] <= 600\n",
    "model += 3*x[0][1] + 2*x[1][1] + x[2][1] <= 800\n",
    "model += 3*x[0][2] + 2*x[1][2] + x[2][2] <= 375\n",
    "\n",
    "save(model, \"model.lp\")"
   ]
  },
  {
   "cell_type": "code",
   "execution_count": null,
   "id": "8bc04fa3",
   "metadata": {},
   "outputs": [],
   "source": [
    "solve(model)"
   ]
  },
  {
   "cell_type": "markdown",
   "id": "0ca74802",
   "metadata": {},
   "source": [
    "## Section 6 - Cutting Stock (Steel Bars)\n",
    "A workshop has 6-meter steel bars that must be cut into 2m, 3m, and 4m pieces in given quantities.  \n",
    "Formulate an Integer Linear Program to minimize waste."
   ]
  },
  {
   "cell_type": "code",
   "execution_count": null,
   "id": "02e2af14",
   "metadata": {},
   "outputs": [],
   "source": [
    "n = 4"
   ]
  },
  {
   "cell_type": "code",
   "execution_count": null,
   "id": "e39c024d",
   "metadata": {},
   "outputs": [],
   "source": [
    "model = Model(sense=MINIMIZE, solver_name=CBC)\n",
    "\n",
    "x = [model.add_var(var_type=INTEGER, lb=0.0, name = f\"x_{j+1}\") for j in range(n)]\n",
    "\n",
    "model.objective = xsum(x[j] for j in range(n))\n",
    "                  \n",
    "model += 3*x[0] + x[1] + x[2] >= 50\n",
    "model += x[1] + 2*x[3] >= 60\n",
    "model += x[2] >= 90\n",
    "\n",
    "save(model, \"model.lp\")"
   ]
  },
  {
   "cell_type": "code",
   "execution_count": null,
   "id": "ea0cecee",
   "metadata": {},
   "outputs": [],
   "source": [
    "solve(model)"
   ]
  },
  {
   "cell_type": "markdown",
   "id": "0e64d423",
   "metadata": {},
   "source": [
    "## Section 7 - Metal Strips (Cutting Problem)\n",
    "A company must produce strips of given dimensions from larger sheets using specified cutting patterns.  \n",
    "Formulate a model to minimize waste or material used."
   ]
  },
  {
   "cell_type": "code",
   "execution_count": null,
   "id": "8e519428",
   "metadata": {},
   "outputs": [],
   "source": [
    "n = 4\n",
    "m = 2"
   ]
  },
  {
   "cell_type": "code",
   "execution_count": null,
   "id": "a5e17f77",
   "metadata": {},
   "outputs": [],
   "source": [
    "model = Model(sense=MINIMIZE, solver_name=CBC)\n",
    "\n",
    "x = [model.add_var(var_type=INTEGER, lb=0, name = f\"x_{i+1}\") for i in range(n)]\n",
    "y = [model.add_var(var_type=INTEGER, lb=0, name = f\"y_{i+1}\") for i in range(m)]\n",
    "\n",
    "model.objective = 30000*y[0] + 22000*y[1]\n",
    "\n",
    "model += 2*x[0] + x[1] + 2*x[2] + 5*x[3] >= 2000\n",
    "model += x[0] + x[1] + x[2] >= 1000\n",
    "model += y[0] == (x[1] + x[3])/750\n",
    "model += y[1] == (x[0] + x[2])/500\n",
    "\n",
    "save(model, \"model.lp\")"
   ]
  },
  {
   "cell_type": "code",
   "execution_count": null,
   "id": "b81ef6cf",
   "metadata": {},
   "outputs": [],
   "source": [
    "solve(model)"
   ]
  },
  {
   "cell_type": "markdown",
   "id": "6f947f8e",
   "metadata": {},
   "source": [
    "## Section 9 - Quality Control Inspectors\n",
    "Two types of inspectors (different costs, speeds, and reliability) must inspect at least 1800 parts in 8 hours.  \n",
    "There are limited numbers of each inspector type available.  \n",
    "Formulate a model to minimize inspection costs (including error costs)."
   ]
  },
  {
   "cell_type": "code",
   "execution_count": null,
   "id": "86218de9",
   "metadata": {},
   "outputs": [],
   "source": [
    "n = 2"
   ]
  },
  {
   "cell_type": "code",
   "execution_count": null,
   "id": "93accc87",
   "metadata": {},
   "outputs": [],
   "source": [
    "model = Model(sense=MINIMIZE, solver_name=CBC)\n",
    "\n",
    "x = [model.add_var(var_type=INTEGER, lb=0.0, name = f\"x_{i+1}\") for i in range(n)]\n",
    "\n",
    "model.objective = 8*6.5*x[0] + 10*4.5*x[1]\n",
    "\n",
    "model += 200*x[0] + 150*x[1] >= 1800\n",
    "model += x[0] <= 8\n",
    "model += x[1] <= 10\n",
    "\n",
    "save(model, \"model.lp\")"
   ]
  },
  {
   "cell_type": "code",
   "execution_count": null,
   "id": "33bf243e",
   "metadata": {},
   "outputs": [],
   "source": [
    "solve(model)"
   ]
  },
  {
   "cell_type": "markdown",
   "id": "fe1aee0f",
   "metadata": {},
   "source": [
    "## Section 11 - Hospital Room Allocation\n",
    "A hospital must decide how many 1-bed, 2-bed, and 3-bed rooms to build under constraints of maximum number of rooms, minimum number of beds, labor effort, and space.  \n",
    "Formulate the problem for multiple objectives:  \n",
    "- minimize labor,  \n",
    "- maximize revenue,  \n",
    "- maximize beds,  \n",
    "- minimize construction space."
   ]
  },
  {
   "cell_type": "code",
   "execution_count": null,
   "id": "51060845",
   "metadata": {},
   "outputs": [],
   "source": [
    "n = 3"
   ]
  },
  {
   "cell_type": "markdown",
   "id": "dc24b102",
   "metadata": {},
   "source": [
    "### Model 1"
   ]
  },
  {
   "cell_type": "code",
   "execution_count": null,
   "id": "4110bf81",
   "metadata": {},
   "outputs": [],
   "source": [
    "model = Model(sense=MINIMIZE, solver_name=CBC)\n",
    "\n",
    "x = [model.add_var(var_type=INTEGER, lb=0.0, name = f\"x_{i+1}\") for i in range(n)]\n",
    "\n",
    "model.objective = 1*1*x[0] + 0.8*2*x[1] + 0.8*3*x[2]\n",
    "\n",
    "model += x[0] + x[1] + x[2] <= 70\n",
    "model += x[0] + 2*x[1] + 3*x[2] >= 120\n",
    "model += 0.85*x[0] - 0.15*x[1] - 0.15*x[2] >= 0\n",
    "model += 0.7*x[0] - 0.3*x[1] - 0.3*x[2] <= 0\n",
    "\n",
    "save(model, \"model.lp\")"
   ]
  },
  {
   "cell_type": "code",
   "execution_count": null,
   "id": "61392784",
   "metadata": {},
   "outputs": [],
   "source": [
    "solve(model)"
   ]
  },
  {
   "cell_type": "markdown",
   "id": "7b1dbd7b",
   "metadata": {},
   "source": [
    "### Model 2"
   ]
  },
  {
   "cell_type": "code",
   "execution_count": null,
   "id": "6a383935",
   "metadata": {},
   "outputs": [],
   "source": [
    "model = Model(sense=MAXIMIZE, solver_name=CBC)\n",
    "\n",
    "x = [model.add_var(var_type=INTEGER, lb=0.0, name = f\"x_{i+1}\") for i in range(n)]\n",
    "\n",
    "model.objective = 1*1*x[0] + 2*(1/2)*x[1] + 3*(1/3)*x[2]\n",
    "\n",
    "model += x[0] + x[1] + x[2] <= 70\n",
    "model += x[0] + 2*x[1] + 3*x[2] >= 120\n",
    "model += 0.85*x[0] - 0.15*x[1] - 0.15*x[2] >= 0\n",
    "model += 0.7*x[0] - 0.3*x[1] - 0.3*x[2] <= 0\n",
    "\n",
    "save(model, \"model.lp\")"
   ]
  },
  {
   "cell_type": "code",
   "execution_count": null,
   "id": "c68becb9",
   "metadata": {},
   "outputs": [],
   "source": [
    "solve(model)"
   ]
  },
  {
   "cell_type": "markdown",
   "id": "a85df08e",
   "metadata": {},
   "source": [
    "### Model 3"
   ]
  },
  {
   "cell_type": "code",
   "execution_count": null,
   "id": "608294b1",
   "metadata": {},
   "outputs": [],
   "source": [
    "model = Model(sense=MAXIMIZE, solver_name=CBC)\n",
    "\n",
    "x = [model.add_var(var_type=INTEGER, lb=0.0, name = f\"x_{i+1}\") for i in range(n)]\n",
    "\n",
    "model.objective = x[0] + 2*x[1] + 3*x[2]\n",
    "\n",
    "model += x[0] + x[1] + x[2] <= 70\n",
    "model += x[0] + 2*x[1] + 3*x[2] >= 120\n",
    "model += 0.85*x[0] - 0.15*x[1] - 0.15*x[2] >= 0\n",
    "model += 0.7*x[0] - 0.3*x[1] - 0.3*x[2] <= 0\n",
    "\n",
    "save(model, \"model.lp\")"
   ]
  },
  {
   "cell_type": "code",
   "execution_count": null,
   "id": "f69e4e05",
   "metadata": {},
   "outputs": [],
   "source": [
    "solve(model)"
   ]
  },
  {
   "cell_type": "markdown",
   "id": "88f4167c",
   "metadata": {},
   "source": [
    "### Model 4"
   ]
  },
  {
   "cell_type": "code",
   "execution_count": null,
   "id": "b44e4c75",
   "metadata": {},
   "outputs": [],
   "source": [
    "model = Model(sense=MINIMIZE, solver_name=CBC)\n",
    "\n",
    "x = [model.add_var(var_type=INTEGER, lb=0.0, name = f\"x_{i+1}\") for i in range(n)]\n",
    "\n",
    "model.objective = 10*x[0] + 14*x[1] + 17*x[2]\n",
    "\n",
    "model += x[0] + x[1] + x[2] <= 70\n",
    "model += x[0] + 2*x[1] + 3*x[2] >= 120\n",
    "model += 0.85*x[0] - 0.15*x[1] - 0.15*x[2] >= 0\n",
    "model += 0.7*x[0] - 0.3*x[1] - 0.3*x[2] <= 0\n",
    "\n",
    "save(model, \"model.lp\")"
   ]
  },
  {
   "cell_type": "code",
   "execution_count": null,
   "id": "1a8eedf7",
   "metadata": {},
   "outputs": [],
   "source": [
    "solve(model)"
   ]
  },
  {
   "cell_type": "markdown",
   "id": "007abefe",
   "metadata": {},
   "source": [
    "## Section 13 - Nurse Scheduling\n",
    "A hospital administrator must schedule nurses over 8 periods of 3 hours each day.  \n",
    "Each nurse works a 6-hour shift and may extend by 3 hours (with extra pay).  \n",
    "Constraints: minimum staffing requirements per shift, and at most 40% of nurses working overtime.  \n",
    "Formulate a model to minimize total staffing cost."
   ]
  },
  {
   "cell_type": "code",
   "execution_count": null,
   "id": "e022b97d",
   "metadata": {},
   "outputs": [],
   "source": [
    "n = 8"
   ]
  },
  {
   "cell_type": "code",
   "execution_count": null,
   "id": "3d573841",
   "metadata": {},
   "outputs": [],
   "source": [
    "model = Model(sense=MINIMIZE, solver_name=CBC)\n",
    "\n",
    "x = [model.add_var(var_type=INTEGER, lb=0.0, name = f\"x_{i+1}\") for i in range(n)]\n",
    "e = [model.add_var(var_type=INTEGER, lb=0.0, name = f\"e_{i+1}\") for i in range(n)]\n",
    "\n",
    "model.objective = xsum(x[i] for i in range(n)) + 1.75*xsum(e[i] for i in range(n))\n",
    "\n",
    "model += x[0] + x[7] + e[0] + e[6] + e[7] >= 30\n",
    "model += x[0] + x[1] + e[0] + e[1] + e[7] >= 20\n",
    "model += x[1] + x[2] + e[0] + e[1] + e[2] >= 40\n",
    "model += x[2] + x[3] + e[1] + e[2] + e[3] >= 50\n",
    "model += x[3] + x[4] + e[2] + e[3] + e[4] >= 60\n",
    "model += x[4] + x[5] + e[3] + e[4] + e[5] >= 50\n",
    "model += x[5] + x[6] + e[4] + e[5] + e[6] >= 40\n",
    "model += x[6] + x[7] + e[5] + e[6] + e[7] >= 40\n",
    "\n",
    "model += - 0.4*x[0] - 0.4*x[7] - 0.4*e[0] + 0.6*e[6] - 0.4*e[7] <= 0\n",
    "model += - 0.4*x[0] - 0.4*x[1] - 0.4*e[0] - 0.4*e[1] + 0.6*e[7] <= 0\n",
    "model += - 0.4*x[1] - 0.4*x[2] + 0.6*e[0] - 0.4*e[1] - 0.4*e[2] <= 0\n",
    "model += - 0.4*x[2] - 0.4*x[3] + 0.6*e[1] - 0.4*e[2] - 0.4*e[3] <= 0\n",
    "model += - 0.4*x[3] - 0.4*x[4] + 0.6*e[2] - 0.4*e[3] - 0.4*e[4] <= 0\n",
    "model += - 0.4*x[4] - 0.4*x[5] + 0.6*e[3] - 0.4*e[4] - 0.4*e[5] <= 0\n",
    "model += - 0.4*x[5] - 0.4*x[6] + 0.6*e[4] - 0.4*e[5] - 0.4*e[6] <= 0\n",
    "model += - 0.4*x[6] - 0.4*x[7] + 0.6*e[5] - 0.4*e[6] - 0.4*e[7] <= 0\n",
    "\n",
    "save(model, \"model.lp\")"
   ]
  },
  {
   "cell_type": "code",
   "execution_count": null,
   "id": "f80fd2ab",
   "metadata": {},
   "outputs": [],
   "source": [
    "solve(model)"
   ]
  },
  {
   "cell_type": "markdown",
   "id": "db96d354",
   "metadata": {},
   "source": [
    "## Section 14 - Multiple Knapsack Problem\n",
    "There are `m` knapsacks with weight capacities and `n` objects (one unit each) with profits and weights.  \n",
    "Formulate a model to maximize total profit."
   ]
  },
  {
   "cell_type": "code",
   "execution_count": null,
   "id": "472d42df",
   "metadata": {},
   "outputs": [],
   "source": [
    "m = 3   # number of knapsacks\n",
    "n = 5   # number of items"
   ]
  },
  {
   "cell_type": "code",
   "execution_count": null,
   "id": "7b711fe1",
   "metadata": {},
   "outputs": [],
   "source": [
    "# Example data (can be replaced with real input)\n",
    "p = [10, 20, 30, 15, 25]     # profit of each item j\n",
    "w = [2, 3, 4, 2, 5]          # weight of each item j\n",
    "b = [10, 8, 7]               # capacity of each knapsack i"
   ]
  },
  {
   "cell_type": "code",
   "execution_count": null,
   "id": "636671ea",
   "metadata": {},
   "outputs": [],
   "source": [
    "model = Model(sense=MAXIMIZE, solver_name=CBC)\n",
    "\n",
    "x = [[model.add_var(var_type=BINARY, name=f\"x_{i+1}_{j+1}\") for j in range(n)] for i in range(m)]\n",
    "\n",
    "model.objective = xsum(p[j] * x[i][j] for i in range(m) for j in range(n))\n",
    "\n",
    "# Capacity constraints for each knapsack\n",
    "for i in range(m):\n",
    "    model += xsum(w[j] * x[i][j] for j in range(n)) <= b[i]\n",
    "\n",
    "# Each item can be assigned to at most one knapsack\n",
    "for j in range(n):\n",
    "    model += xsum(x[i][j] for i in range(m)) <= 1\n",
    "\n",
    "save(model, \"model.lp\")"
   ]
  },
  {
   "cell_type": "code",
   "execution_count": null,
   "id": "71c5dc68",
   "metadata": {},
   "outputs": [],
   "source": [
    "solve(model)"
   ]
  },
  {
   "cell_type": "markdown",
   "id": "6add181d",
   "metadata": {},
   "source": [
    "## Section 17 - Facility Location\n",
    "There are possible sites for factories, each with fixed cost and capacity.  \n",
    "Clients have known demand, and there are transportation costs between factories and clients.  \n",
    "Formulate a model to decide factory locations and distribution to minimize total cost."
   ]
  },
  {
   "cell_type": "code",
   "execution_count": null,
   "id": "beabed97",
   "metadata": {},
   "outputs": [],
   "source": [
    "m = 3   # number of locations\n",
    "n = 5   # number of clients"
   ]
  },
  {
   "cell_type": "code",
   "execution_count": null,
   "id": "a9ed7219",
   "metadata": {},
   "outputs": [],
   "source": [
    "# Example data (can be replaced with real input)\n",
    "f = [10, 20, 30, 15, 25]      # fixed factory production cost of each item i\n",
    "p = [2, 3, 4, 2, 5]           # production capacity of each factory i\n",
    "c = [[2, 3, 4, 5, 6],         # transportation cost from factory 1 to customers 1-5\n",
    "     [3, 2, 5, 4, 3],         # transportation cost from factory 2 to customers 1-5\n",
    "     [4, 5, 3, 2, 6]]         # transportation cost from factory 3 to customers 1-5\n",
    "d = [10, 8, 7, 5, 4]          # demand of each customer j"
   ]
  },
  {
   "cell_type": "code",
   "execution_count": null,
   "id": "1cead80a",
   "metadata": {},
   "outputs": [],
   "source": [
    "model = Model(sense=MINIMIZE, solver_name=CBC)\n",
    "\n",
    "x = [[model.add_var(var_type=INTEGER, lb=0, name=f\"x_{i+1}_{j+1}\") for j in range(n)] for i in range(m)]\n",
    "y = [model.add_var(var_type=BINARY, name=f\"y_{i+1}\") for i in range(m)]\n",
    "\n",
    "model.objective = xsum(c[i][j] * x[i][j] for i in range(m) for j in range(n)) + xsum(f[i] * y[i] for i in range(m))\n",
    "\n",
    "for i in range(m):\n",
    "    model += xsum(x[i][j] for j in range(n)) <= p[i]*y[i]\n",
    "\n",
    "for j in range(n):\n",
    "    model += xsum(x[i][j] for i in range(m)) <= d[j]\n",
    "\n",
    "save(model, \"model.lp\")"
   ]
  },
  {
   "cell_type": "code",
   "execution_count": null,
   "id": "393256fb",
   "metadata": {},
   "outputs": [],
   "source": [
    "solve(model)"
   ]
  }
 ],
 "metadata": {
  "language_info": {
   "name": "python"
  }
 },
 "nbformat": 4,
 "nbformat_minor": 5
}
