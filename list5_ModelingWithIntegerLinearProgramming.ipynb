{
 "cells": [
  {
   "cell_type": "markdown",
   "id": "374f7cd8",
   "metadata": {},
   "source": [
    "# Linear Programming Problem Set\n",
    "\n",
    "This notebook contains a collection of Linear Programming (LP) and Integer Linear Programming (ILP) modeling problems.  \n",
    "Each section presents one problem description that can be later formulated and solved using optimization tools in Python."
   ]
  },
  {
   "cell_type": "code",
   "execution_count": null,
   "id": "181a9357",
   "metadata": {},
   "outputs": [],
   "source": [
    "# installing and importing the mip package\n",
    "!pip install mip\n",
    "\n",
    "from mip import *"
   ]
  },
  {
   "cell_type": "code",
   "execution_count": null,
   "id": "178eed4c",
   "metadata": {},
   "outputs": [],
   "source": [
    "def solve(model):\n",
    "  status = model.optimize()\n",
    "\n",
    "  print(\"Status = \", status)\n",
    "  if status != OptimizationStatus.OPTIMAL:\n",
    "    return\n",
    "\n",
    "  print(f\"Solution value  = {model.objective_value:.2f}\\n\")\n",
    "\n",
    "  print(\"Solution:\")\n",
    "  for v in model.vars:\n",
    "    if v.x > 0.001:\n",
    "      print(f\"{v.name} = {v.x:.2f}\")"
   ]
  },
  {
   "cell_type": "code",
   "execution_count": null,
   "id": "d69ee355",
   "metadata": {},
   "outputs": [],
   "source": [
    "def save(model, filename):\n",
    "  model.write(filename)\n",
    "  with open(filename, \"r\") as f:\n",
    "    print(f.read())"
   ]
  },
  {
   "cell_type": "markdown",
   "id": "cb55edbf",
   "metadata": {},
   "source": [
    "## Section 1 - Steel Company (Transportation with Fixed Costs)\n",
    "A steel company has 3 plants, each requiring a minimum monthly amount of ore. The company buys ore from 3 mines with maximum monthly production capacities.  \n",
    "There is a fixed cost per mine plus a transport cost depending on the mine-plant pair.  \n",
    "Formulate an optimization model to minimize the total purchase cost."
   ]
  },
  {
   "cell_type": "code",
   "execution_count": null,
   "id": "07f70e35",
   "metadata": {},
   "outputs": [],
   "source": [
    "n = 3"
   ]
  },
  {
   "cell_type": "code",
   "execution_count": null,
   "id": "e637c05c",
   "metadata": {},
   "outputs": [],
   "source": [
    "model = Model(sense=MINIMIZE, solver_name=CBC)\n",
    "\n",
    "x = [[model.add_var(var_type=INTEGER, lb=0, name = f\"x_{i+1}_{j+1}\") for j in range(n)] for i in range(n)]\n",
    "y = [model.add_var(var_type=BINARY, name = f\"y_{i+1}\") for i in range(n)]\n",
    "\n",
    "model.objective = 10*x[0][0] + 8*x[1][0] + 13*x[2][0] + 7*x[0][1] + 9*x[1][1] + \\\n",
    "                  + 16*x[2][1] + 6.5*x[0][2] + 10.8*x[1][2] + 12.6*x[2][2] + \\\n",
    "                  + 50000*y[0] + 40000*y[1] + 30000*y[2]\n",
    "\n",
    "model += x[0][0] + x[1][0] + x[2][0] == 12300\n",
    "model += x[0][1] + x[1][1] + x[2][1] == 15400\n",
    "model += x[0][2] + x[1][2] + x[2][2] == 13300\n",
    "\n",
    "model += x[0][0] + x[0][1] + x[0][2] <= 11500*y[0]\n",
    "model += x[1][0] + x[1][1] + x[1][2] <= 16500*y[1]\n",
    "model += x[2][0] + x[2][1] + x[2][2] <= 13000*y[2]\n",
    "\n",
    "save(model, \"model.lp\")"
   ]
  },
  {
   "cell_type": "code",
   "execution_count": null,
   "id": "3a76f9d7",
   "metadata": {},
   "outputs": [],
   "source": [
    "solve(model)"
   ]
  },
  {
   "cell_type": "markdown",
   "id": "52c972cc",
   "metadata": {},
   "source": [
    "## Section 5 - Agricultural Planning\n",
    "Three agricultural regions with different land and water availability can produce wheat, cotton, and soybeans.  \n",
    "Each crop has water requirements, land constraints, and profit per unit.  \n",
    "Formulate a linear program to allocate production for maximum profit."
   ]
  },
  {
   "cell_type": "code",
   "execution_count": null,
   "id": "90c2c704",
   "metadata": {},
   "outputs": [],
   "source": [
    "n = 3"
   ]
  },
  {
   "cell_type": "code",
   "execution_count": null,
   "id": "2fda0fcb",
   "metadata": {},
   "outputs": [],
   "source": [
    "model = Model(sense=MAXIMIZE, solver_name=CBC)\n",
    "\n",
    "x = [[model.add_var(var_type=INTEGER, lb=0, name = f\"x_{i+1}_{j+1}\") for j in range(n)] for i in range(n)]\n",
    "\n",
    "model.objective = 400*(x[0][0] + x[0][1] + x[0][2]) + \\\n",
    "                  + 300*(x[1][0] + x[1][1] + x[1][2]) + \\\n",
    "                  + 100*(x[2][0] + x[2][1] + x[2][2])\n",
    "                  \n",
    "model += x[0][0] + x[1][0] + x[2][0] <= 400\n",
    "model += x[0][1] + x[1][1] + x[2][1] <= 600\n",
    "model += x[0][2] + x[1][2] + x[2][2] <= 300\n",
    "  \n",
    "model += x[0][0] + x[0][1] + x[0][2] <= 600\n",
    "model += x[1][0] + x[1][1] + x[1][2] == 500\n",
    "model += x[2][0] + x[2][1] + x[2][2] == 325\n",
    "\n",
    "model += 3*x[0][0] + 2*x[1][0] + x[2][0] <= 600\n",
    "model += 3*x[0][1] + 2*x[1][1] + x[2][1] <= 800\n",
    "model += 3*x[0][2] + 2*x[1][2] + x[2][2] <= 375\n",
    "\n",
    "save(model, \"model.lp\")"
   ]
  },
  {
   "cell_type": "code",
   "execution_count": null,
   "id": "8bc04fa3",
   "metadata": {},
   "outputs": [],
   "source": [
    "solve(model)"
   ]
  },
  {
   "cell_type": "markdown",
   "id": "0ca74802",
   "metadata": {},
   "source": [
    "## Section 6 - Cutting Stock (Steel Bars)\n",
    "A workshop has 6-meter steel bars that must be cut into 2m, 3m, and 4m pieces in given quantities.  \n",
    "Formulate an Integer Linear Program to minimize waste."
   ]
  },
  {
   "cell_type": "code",
   "execution_count": null,
   "id": "02e2af14",
   "metadata": {},
   "outputs": [],
   "source": [
    "n = 4"
   ]
  },
  {
   "cell_type": "code",
   "execution_count": null,
   "id": "e39c024d",
   "metadata": {},
   "outputs": [],
   "source": [
    "model = Model(sense=MINIMIZE, solver_name=CBC)\n",
    "\n",
    "x = [model.add_var(var_type=INTEGER, lb=0.0, name = f\"x_{j+1}\") for j in range(n)]\n",
    "\n",
    "model.objective = xsum(x[j] for j in range(n))\n",
    "                  \n",
    "model += 3*x[0] + x[1] + x[2] >= 50\n",
    "model += x[1] + 2*x[3] >= 60\n",
    "model += x[2] >= 90\n",
    "\n",
    "save(model, \"model.lp\")"
   ]
  },
  {
   "cell_type": "code",
   "execution_count": null,
   "id": "ea0cecee",
   "metadata": {},
   "outputs": [],
   "source": [
    "solve(model)"
   ]
  }
 ],
 "metadata": {
  "language_info": {
   "name": "python"
  }
 },
 "nbformat": 4,
 "nbformat_minor": 5
}
