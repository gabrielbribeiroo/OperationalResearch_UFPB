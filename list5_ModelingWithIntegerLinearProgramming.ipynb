{
 "cells": [
  {
   "cell_type": "markdown",
   "id": "374f7cd8",
   "metadata": {},
   "source": [
    "# Linear Programming Problem Set\n",
    "\n",
    "This notebook contains a collection of Linear Programming (LP) and Integer Linear Programming (ILP) modeling problems.  \n",
    "Each section presents one problem description that can be later formulated and solved using optimization tools in Python."
   ]
  },
  {
   "cell_type": "code",
   "execution_count": null,
   "id": "181a9357",
   "metadata": {},
   "outputs": [],
   "source": [
    "# installing and importing the mip package\n",
    "!pip install mip\n",
    "\n",
    "from mip import *"
   ]
  },
  {
   "cell_type": "code",
   "execution_count": null,
   "id": "178eed4c",
   "metadata": {},
   "outputs": [],
   "source": [
    "def solve(model):\n",
    "  status = model.optimize()\n",
    "\n",
    "  print(\"Status = \", status)\n",
    "  if status != OptimizationStatus.OPTIMAL:\n",
    "    return\n",
    "\n",
    "  print(f\"Solution value  = {model.objective_value:.2f}\\n\")\n",
    "\n",
    "  print(\"Solution:\")\n",
    "  for v in model.vars:\n",
    "    if v.x > 0.001:\n",
    "      print(f\"{v.name} = {v.x:.2f}\")"
   ]
  },
  {
   "cell_type": "code",
   "execution_count": null,
   "id": "d69ee355",
   "metadata": {},
   "outputs": [],
   "source": [
    "def save(model, filename):\n",
    "  model.write(filename)\n",
    "  with open(filename, \"r\") as f:\n",
    "    print(f.read())"
   ]
  }
 ],
 "metadata": {
  "language_info": {
   "name": "python"
  }
 },
 "nbformat": 4,
 "nbformat_minor": 5
}
