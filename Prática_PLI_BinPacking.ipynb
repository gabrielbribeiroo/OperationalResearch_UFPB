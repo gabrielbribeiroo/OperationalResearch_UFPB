{
  "cells": [
    {
      "cell_type": "markdown",
      "metadata": {
        "colab_type": "text",
        "id": "view-in-github"
      },
      "source": [
        "<a href=\"https://colab.research.google.com/github/gabrielbribeiroo/OperationalResearch_UFPB/blob/main/Pr%C3%A1tica_PLI_BinPacking.ipynb\" target=\"_parent\"><img src=\"https://colab.research.google.com/assets/colab-badge.svg\" alt=\"Open In Colab\"/></a>"
      ]
    },
    {
      "cell_type": "markdown",
      "metadata": {
        "id": "KkkfGB7mizn4"
      },
      "source": [
        "# Aula prática: Bin Packing\n"
      ]
    },
    {
      "cell_type": "markdown",
      "metadata": {
        "id": "6Pq0qYFUi66C"
      },
      "source": [
        "## Exercício 1\n"
      ]
    },
    {
      "cell_type": "markdown",
      "metadata": {
        "id": "18u4P6_fjHTa"
      },
      "source": [
        "### Descrição do problema\n",
        "Uma faculdade quer agendar as provas de 6 disciplinas. Existe uma regra que proíbe que o mesmo aluno tenha que fazer mais de uma prova por dia. A tabela abaixo mostra quais alunos (identificados por números) vão fazer a prova de cada disciplina. Por exemplo, A e B não podem ser agendadas no mesmo dia por causa do aluno 1. Já B e C poderiam ser agendadas no mesmo dia, pois nenhum aluno vai fazer essas duas provas.\n",
        "\n",
        "| Disciplina | Alunos |\n",
        "|:---:|:---:|\n",
        "| A | 1, 2, 3, 4 |\n",
        "| B | 1, 5 |\n",
        "| C | 3, 6, 7 |\n",
        "| D | 5, 7 |\n",
        "| E | 2, 7 |\n",
        "| F | 4, 5 |\n",
        "\n",
        "Crie um modelo de PLI para agendar essas provas no menor número de dias possível.\n",
        "**Dica: baseie-se no modelo do problema de empacotamento de caixas.**\n"
      ]
    },
    {
      "cell_type": "markdown",
      "metadata": {
        "id": "EW2_LyQlkB9Y"
      },
      "source": [
        "### Resolução"
      ]
    },
    {
      "cell_type": "code",
      "execution_count": 1,
      "metadata": {
        "colab": {
          "base_uri": "https://localhost:8080/"
        },
        "id": "UToKjaulioTm",
        "outputId": "9c8156cb-aaf1-4950-faa5-33a75b116a77"
      },
      "outputs": [
        {
          "name": "stdout",
          "output_type": "stream",
          "text": [
            "Collecting mip\n",
            "  Downloading mip-1.15.0-py3-none-any.whl.metadata (21 kB)\n",
            "Collecting cffi==1.15.* (from mip)\n",
            "  Downloading cffi-1.15.1-cp311-cp311-manylinux_2_17_x86_64.manylinux2014_x86_64.whl.metadata (1.1 kB)\n",
            "Requirement already satisfied: pycparser in /usr/local/lib/python3.11/dist-packages (from cffi==1.15.*->mip) (2.22)\n",
            "Downloading mip-1.15.0-py3-none-any.whl (15.3 MB)\n",
            "\u001b[2K   \u001b[90m━━━━━━━━━━━━━━━━━━━━━━━━━━━━━━━━━━━━━━━━\u001b[0m \u001b[32m15.3/15.3 MB\u001b[0m \u001b[31m56.0 MB/s\u001b[0m eta \u001b[36m0:00:00\u001b[0m\n",
            "\u001b[?25hDownloading cffi-1.15.1-cp311-cp311-manylinux_2_17_x86_64.manylinux2014_x86_64.whl (462 kB)\n",
            "\u001b[2K   \u001b[90m━━━━━━━━━━━━━━━━━━━━━━━━━━━━━━━━━━━━━━━━\u001b[0m \u001b[32m462.6/462.6 kB\u001b[0m \u001b[31m26.5 MB/s\u001b[0m eta \u001b[36m0:00:00\u001b[0m\n",
            "\u001b[?25hInstalling collected packages: cffi, mip\n",
            "  Attempting uninstall: cffi\n",
            "    Found existing installation: cffi 1.17.1\n",
            "    Uninstalling cffi-1.17.1:\n",
            "      Successfully uninstalled cffi-1.17.1\n",
            "\u001b[31mERROR: pip's dependency resolver does not currently take into account all the packages that are installed. This behaviour is the source of the following dependency conflicts.\n",
            "pygit2 1.18.1 requires cffi>=1.17.0, but you have cffi 1.15.1 which is incompatible.\u001b[0m\u001b[31m\n",
            "\u001b[0mSuccessfully installed cffi-1.15.1 mip-1.15.0\n"
          ]
        }
      ],
      "source": [
        "# instalação e importação do pacote mip\n",
        "!pip install mip\n",
        "from mip import *\n",
        "\n",
        "# funcões usadas posteriormente:\n",
        "\n",
        "# resolve o modelo e mostra os valores das variáveis\n",
        "def solve(model):\n",
        "  status = model.optimize()\n",
        "\n",
        "  print(\"Status = \", status)\n",
        "  if status != OptimizationStatus.OPTIMAL:\n",
        "    return\n",
        "\n",
        "  print(f\"Solution value  = {model.objective_value:.2f}\\n\")\n",
        "\n",
        "  print(\"Solution:\")\n",
        "  for v in model.vars:\n",
        "    if v.x > 0.001:\n",
        "      print(f\"{v.name} = {v.x:.2f}\")\n",
        "\n",
        "\n",
        "# salva modelo em arquivo lp, e mostra o conteúdo\n",
        "def save(model, filename):\n",
        "  model.write(filename) # salva modelo em arquivo\n",
        "  with open(filename, \"r\") as f: # lê e exibe conteúdo do arquivo\n",
        "    print(f.read())"
      ]
    },
    {
      "cell_type": "code",
      "execution_count": 10,
      "metadata": {
        "id": "qwGqJECbThtE"
      },
      "outputs": [],
      "source": [
        "n = 6 # número de dias\n",
        "m = 6 # número de disciplinas"
      ]
    },
    {
      "cell_type": "code",
      "execution_count": null,
      "metadata": {
        "colab": {
          "base_uri": "https://localhost:8080/"
        },
        "id": "zL3qpuLbkFDK",
        "outputId": "5d9c8ccf-60ae-4427-b224-52dc1160fb01"
      },
      "outputs": [
        {
          "name": "stdout",
          "output_type": "stream",
          "text": [
            "\\Problem name: \n",
            "\n",
            "Minimize\n",
            "OBJROW: y_1 + y_2 + y_3 + y_4 + y_5 + y_6\n",
            "Subject To\n",
            "constr(0):  x_1_1 + x_1_2 + x_1_3 + x_1_4 + x_1_5 + x_1_6 = 1\n",
            "constr(1):  x_2_1 + x_2_2 + x_2_3 + x_2_4 + x_2_5 + x_2_6 = 1\n",
            "constr(2):  x_3_1 + x_3_2 + x_3_3 + x_3_4 + x_3_5 + x_3_6 = 1\n",
            "constr(3):  x_4_1 + x_4_2 + x_4_3 + x_4_4 + x_4_5 + x_4_6 = 1\n",
            "constr(4):  x_5_1 + x_5_2 + x_5_3 + x_5_4 + x_5_5 + x_5_6 = 1\n",
            "constr(5):  x_6_1 + x_6_2 + x_6_3 + x_6_4 + x_6_5 + x_6_6 = 1\n",
            "constr(6):  x_1_1 + x_2_1 <= 1\n",
            "constr(7):  x_1_1 + x_5_1 <= 1\n",
            "constr(8):  x_1_1 + x_3_1 <= 1\n",
            "constr(9):  x_1_1 + x_6_1 <= 1\n",
            "constr(10):  x_2_1 + x_4_1 <= 1\n",
            "constr(11):  x_2_1 + x_6_1 <= 1\n",
            "constr(12):  x_3_1 + x_4_1 <= 1\n",
            "constr(13):  x_3_1 + x_5_1 <= 1\n",
            "constr(14):  x_4_1 + x_5_1 <= 1\n",
            "constr(15):  x_1_2 + x_2_2 <= 1\n",
            "constr(16):  x_1_2 + x_5_2 <= 1\n",
            "constr(17):  x_1_2 + x_3_2 <= 1\n",
            "constr(18):  x_1_2 + x_6_2 <= 1\n",
            "constr(19):  x_2_2 + x_4_2 <= 1\n",
            "constr(20):  x_2_2 + x_6_2 <= 1\n",
            "constr(21):  x_3_2 + x_4_2 <= 1\n",
            "constr(22):  x_3_2 + x_5_2 <= 1\n",
            "constr(23):  x_4_2 + x_5_2 <= 1\n",
            "constr(24):  x_1_3 + x_2_3 <= 1\n",
            "constr(25):  x_1_3 + x_5_3 <= 1\n",
            "constr(26):  x_1_3 + x_3_3 <= 1\n",
            "constr(27):  x_1_3 + x_6_3 <= 1\n",
            "constr(28):  x_2_3 + x_4_3 <= 1\n",
            "constr(29):  x_2_3 + x_6_3 <= 1\n",
            "constr(30):  x_3_3 + x_4_3 <= 1\n",
            "constr(31):  x_3_3 + x_5_3 <= 1\n",
            "constr(32):  x_4_3 + x_5_3 <= 1\n",
            "constr(33):  x_1_4 + x_2_4 <= 1\n",
            "constr(34):  x_1_4 + x_5_4 <= 1\n",
            "constr(35):  x_1_4 + x_3_4 <= 1\n",
            "constr(36):  x_1_4 + x_6_4 <= 1\n",
            "constr(37):  x_2_4 + x_4_4 <= 1\n",
            "constr(38):  x_2_4 + x_6_4 <= 1\n",
            "constr(39):  x_3_4 + x_4_4 <= 1\n",
            "constr(40):  x_3_4 + x_5_4 <= 1\n",
            "constr(41):  x_4_4 + x_5_4 <= 1\n",
            "constr(42):  x_1_5 + x_2_5 <= 1\n",
            "constr(43):  x_1_5 + x_5_5 <= 1\n",
            "constr(44):  x_1_5 + x_3_5 <= 1\n",
            "constr(45):  x_1_5 + x_6_5 <= 1\n",
            "constr(46):  x_2_5 + x_4_5 <= 1\n",
            "constr(47):  x_2_5 + x_6_5 <= 1\n",
            "constr(48):  x_3_5 + x_4_5 <= 1\n",
            "constr(49):  x_3_5 + x_5_5 <= 1\n",
            "constr(50):  x_4_5 + x_5_5 <= 1\n",
            "constr(51):  x_1_6 + x_2_6 <= 1\n",
            "constr(52):  x_1_6 + x_5_6 <= 1\n",
            "constr(53):  x_1_6 + x_3_6 <= 1\n",
            "constr(54):  x_1_6 + x_6_6 <= 1\n",
            "constr(55):  x_2_6 + x_4_6 <= 1\n",
            "constr(56):  x_2_6 + x_6_6 <= 1\n",
            "constr(57):  x_3_6 + x_4_6 <= 1\n",
            "constr(58):  x_3_6 + x_5_6 <= 1\n",
            "constr(59):  x_4_6 + x_5_6 <= 1\n",
            "constr(60):  - y_1 + x_1_1 <= -0\n",
            "constr(61):  - y_2 + x_1_2 <= -0\n",
            "constr(62):  - y_3 + x_1_3 <= -0\n",
            "constr(63):  - y_4 + x_1_4 <= -0\n",
            "constr(64):  - y_5 + x_1_5 <= -0\n",
            "constr(65):  - y_6 + x_1_6 <= -0\n",
            "constr(66):  - y_1 + x_2_1 <= -0\n",
            "constr(67):  - y_2 + x_2_2 <= -0\n",
            "constr(68):  - y_3 + x_2_3 <= -0\n",
            "constr(69):  - y_4 + x_2_4 <= -0\n",
            "constr(70):  - y_5 + x_2_5 <= -0\n",
            "constr(71):  - y_6 + x_2_6 <= -0\n",
            "constr(72):  - y_1 + x_3_1 <= -0\n",
            "constr(73):  - y_2 + x_3_2 <= -0\n",
            "constr(74):  - y_3 + x_3_3 <= -0\n",
            "constr(75):  - y_4 + x_3_4 <= -0\n",
            "constr(76):  - y_5 + x_3_5 <= -0\n",
            "constr(77):  - y_6 + x_3_6 <= -0\n",
            "constr(78):  - y_1 + x_4_1 <= -0\n",
            "constr(79):  - y_2 + x_4_2 <= -0\n",
            "constr(80):  - y_3 + x_4_3 <= -0\n",
            "constr(81):  - y_4 + x_4_4 <= -0\n",
            "constr(82):  - y_5 + x_4_5 <= -0\n",
            "constr(83):  - y_6 + x_4_6 <= -0\n",
            "constr(84):  - y_1 + x_5_1 <= -0\n",
            "constr(85):  - y_2 + x_5_2 <= -0\n",
            "constr(86):  - y_3 + x_5_3 <= -0\n",
            "constr(87):  - y_4 + x_5_4 <= -0\n",
            "constr(88):  - y_5 + x_5_5 <= -0\n",
            "constr(89):  - y_6 + x_5_6 <= -0\n",
            "constr(90):  - y_1 + x_6_1 <= -0\n",
            "constr(91):  - y_2 + x_6_2 <= -0\n",
            "constr(92):  - y_3 + x_6_3 <= -0\n",
            "constr(93):  - y_4 + x_6_4 <= -0\n",
            "constr(94):  - y_5 + x_6_5 <= -0\n",
            "constr(95):  - y_6 + x_6_6 <= -0\n",
            "Bounds\n",
            " 0 <= y_1 <= 1\n",
            " 0 <= y_2 <= 1\n",
            " 0 <= y_3 <= 1\n",
            " 0 <= y_4 <= 1\n",
            " 0 <= y_5 <= 1\n",
            " 0 <= y_6 <= 1\n",
            " 0 <= x_1_1 <= 1\n",
            " 0 <= x_1_2 <= 1\n",
            " 0 <= x_1_3 <= 1\n",
            " 0 <= x_1_4 <= 1\n",
            " 0 <= x_1_5 <= 1\n",
            " 0 <= x_1_6 <= 1\n",
            " 0 <= x_2_1 <= 1\n",
            " 0 <= x_2_2 <= 1\n",
            " 0 <= x_2_3 <= 1\n",
            " 0 <= x_2_4 <= 1\n",
            " 0 <= x_2_5 <= 1\n",
            " 0 <= x_2_6 <= 1\n",
            " 0 <= x_3_1 <= 1\n",
            " 0 <= x_3_2 <= 1\n",
            " 0 <= x_3_3 <= 1\n",
            " 0 <= x_3_4 <= 1\n",
            " 0 <= x_3_5 <= 1\n",
            " 0 <= x_3_6 <= 1\n",
            " 0 <= x_4_1 <= 1\n",
            " 0 <= x_4_2 <= 1\n",
            " 0 <= x_4_3 <= 1\n",
            " 0 <= x_4_4 <= 1\n",
            " 0 <= x_4_5 <= 1\n",
            " 0 <= x_4_6 <= 1\n",
            " 0 <= x_5_1 <= 1\n",
            " 0 <= x_5_2 <= 1\n",
            " 0 <= x_5_3 <= 1\n",
            " 0 <= x_5_4 <= 1\n",
            " 0 <= x_5_5 <= 1\n",
            " 0 <= x_5_6 <= 1\n",
            " 0 <= x_6_1 <= 1\n",
            " 0 <= x_6_2 <= 1\n",
            " 0 <= x_6_3 <= 1\n",
            " 0 <= x_6_4 <= 1\n",
            " 0 <= x_6_5 <= 1\n",
            " 0 <= x_6_6 <= 1\n",
            "Integers\n",
            "y_1 y_2 y_3 y_4 y_5 y_6 x_1_1 x_1_2 x_1_3 x_1_4 \n",
            "x_1_5 x_1_6 x_2_1 x_2_2 x_2_3 x_2_4 x_2_5 x_2_6 x_3_1 x_3_2 \n",
            "x_3_3 x_3_4 x_3_5 x_3_6 x_4_1 x_4_2 x_4_3 x_4_4 x_4_5 x_4_6 \n",
            "x_5_1 x_5_2 x_5_3 x_5_4 x_5_5 x_5_6 x_6_1 x_6_2 x_6_3 x_6_4 \n",
            "x_6_5 x_6_6 \n",
            "End\n",
            "\n"
          ]
        }
      ],
      "source": [
        "model = Model(sense=MINIMIZE, solver_name=CBC) # implementar modelo\n",
        "\n",
        "# Adicionando a variável binária para cada dia (se terá prova ou não para algum aluno)\n",
        "y = [model.add_var(var_type=BINARY, name = f\"y_{i+1}\") for i in range(n)]\n",
        "\n",
        "# Adicionando a variável binária para relacionar o disciplina com dia\n",
        "x = [[model.add_var(var_type=BINARY, name = f\"x_{i+1}_{j+1}\") for j in range(m)] for i in range(n)]\n",
        "\n",
        "model.objective = xsum(y[i] for i in range(n)) # Adicionando a função objetivo\n",
        "\n",
        "for i in range(n):\n",
        "  model += xsum(x[i][j] for j in range(m)) == 1 # toda disciplina deve acontecer em algum dia\n",
        "\n",
        "# restrições de conflito\n",
        "for i in range(n):\n",
        "  model += x[0][i] + x[1][i] <= 1\n",
        "  model += x[0][i] + x[4][i] <= 1\n",
        "  model += x[0][i] + x[2][i] <= 1\n",
        "  model += x[0][i] + x[5][i] <= 1\n",
        "  model += x[1][i] + x[3][i] <= 1\n",
        "  model += x[1][i] + x[5][i] <= 1\n",
        "  model += x[2][i] + x[3][i] <= 1\n",
        "  model += x[2][i] + x[4][i] <= 1\n",
        "  model += x[3][i] + x[4][i] <= 1\n",
        "\n",
        "for j in range(m):\n",
        "  for i in range(n):\n",
        "    model += x[j][i] <= y[i]\n",
        "\n",
        "save(model, \"model.lp\")"
      ]
    },
    {
      "cell_type": "code",
      "execution_count": 18,
      "metadata": {
        "colab": {
          "base_uri": "https://localhost:8080/"
        },
        "id": "hpkM_kZ1qthr",
        "outputId": "26943760-56cf-4e1e-b271-85960920515b"
      },
      "outputs": [
        {
          "name": "stdout",
          "output_type": "stream",
          "text": [
            "Status =  OptimizationStatus.OPTIMAL\n",
            "Solution value  = 3.00\n",
            "\n",
            "Solution:\n",
            "y_4 = 1.00\n",
            "y_5 = 1.00\n",
            "y_6 = 1.00\n",
            "x_1_6 = 1.00\n",
            "x_2_4 = 1.00\n",
            "x_3_5 = 1.00\n",
            "x_4_6 = 1.00\n",
            "x_5_4 = 1.00\n",
            "x_6_5 = 1.00\n"
          ]
        }
      ],
      "source": [
        "solve(model)"
      ]
    }
  ],
  "metadata": {
    "colab": {
      "collapsed_sections": [
        "18u4P6_fjHTa"
      ],
      "include_colab_link": true,
      "provenance": []
    },
    "kernelspec": {
      "display_name": "Python 3",
      "name": "python3"
    },
    "language_info": {
      "name": "python"
    }
  },
  "nbformat": 4,
  "nbformat_minor": 0
}
