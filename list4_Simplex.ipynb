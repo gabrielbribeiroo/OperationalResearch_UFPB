{
 "cells": [
  {
   "cell_type": "markdown",
   "id": "42aed6b5",
   "metadata": {},
   "source": [
    "Consider the following linear programming problem:\n",
    "max 4x1 + 3x2 + 6x3\n",
    "S. t.:\n",
    "3x1 + x2 + 3x3 ≤ 30\n",
    "2x1 + 2x2 + 3x3 ≤ 6\n",
    "x1, x2, x3 ≥ 0."
   ]
  },
  {
   "cell_type": "code",
   "execution_count": null,
   "id": "3bc33b7d",
   "metadata": {},
   "outputs": [],
   "source": [
    "# installing and importing the mip package\n",
    "!pip install mip\n",
    "\n",
    "from mip import *"
   ]
  }
 ],
 "metadata": {
  "language_info": {
   "name": "python"
  }
 },
 "nbformat": 4,
 "nbformat_minor": 5
}
