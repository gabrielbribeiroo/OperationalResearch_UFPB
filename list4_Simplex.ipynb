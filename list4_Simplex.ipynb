{
 "cells": [
  {
   "cell_type": "markdown",
   "id": "42aed6b5",
   "metadata": {},
   "source": [
    "Consider the following linear programming problem:\n",
    "max 4x1 + 3x2 + 6x3\n",
    "S. t.:\n",
    "3x1 + x2 + 3x3 ≤ 30\n",
    "2x1 + 2x2 + 3x3 ≤ 6\n",
    "x1, x2, x3 ≥ 0."
   ]
  },
  {
   "cell_type": "code",
   "execution_count": null,
   "id": "3bc33b7d",
   "metadata": {},
   "outputs": [],
   "source": [
    "# installing and importing the mip package\n",
    "!pip install mip\n",
    "\n",
    "from mip import *"
   ]
  },
  {
   "cell_type": "code",
   "execution_count": null,
   "id": "26e7c3b4",
   "metadata": {},
   "outputs": [],
   "source": [
    "model = Model(sense=MAXIMIZE, solver_name=CBC) # implements the model\n",
    "\n",
    "# create/add variables to the model\n",
    "x = {i: model.add_var(var_type=CONTINUOUS, name=f'x_{i}', lb=0.0) for i in range(5)}\n",
    "\n",
    "model.objective = 4*x[0] + 3*x[1] + 6*x[2] # objective function (maximize profit)\n",
    "\n",
    "# constraints\n",
    "model += 3*x[0] + x[1] + 3*x[2] + x[3] == 30\n",
    "model += 2*x[0] + 2*x[1] + 3*x[2] + x[4] == 6\n",
    "\n",
    "model.write(\"model.lp\") # saves the model to a file\n",
    "with open(\"model.lp\") as f: # reads and displays the file content\n",
    "  print(f.read())"
   ]
  },
  {
   "cell_type": "code",
   "execution_count": null,
   "id": "1b75fa31",
   "metadata": {},
   "outputs": [],
   "source": [
    "def solve(model):\n",
    "  status = model.optimize()\n",
    "\n",
    "  print(\"Status = \", status)\n",
    "  print(f\"Solution value  = {model.objective_value:.2f}\\n\")\n",
    "\n",
    "  print(\"Solution:\")\n",
    "  for v in model.vars:\n",
    "      print(f\"{v.name} = {v.x:.2f}\")\n",
    "\n",
    "solve(model)"
   ]
  }
 ],
 "metadata": {
  "language_info": {
   "name": "python"
  }
 },
 "nbformat": 4,
 "nbformat_minor": 5
}
