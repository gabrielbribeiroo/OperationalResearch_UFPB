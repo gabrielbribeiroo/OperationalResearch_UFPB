{
 "cells": [
  {
   "cell_type": "markdown",
   "id": "88fc6e72",
   "metadata": {},
   "source": [
    "1. The owner of a farm with a cultivable area of ​​200,000 m² wants to decide whether to plant three crops: wheat, rice, and corn. The table below contains the productivity data in kg/m² and the profit/kg for each of the crops:\n",
    "Crop Productivity (kg/m²) Profit (R$/kg)\n",
    "Wheat 0.2 0.11\n",
    "Rice 0.3 0.04\n",
    "Corn 0.4 0.02\n",
    "Since the farm does not have its own warehouse, production is limited to a maximum of 60 tons. The farm has its own demand for these crops and therefore consumes part of its production, requiring the planting of at least 400 m² of wheat, 800 m² of rice, and 10,000 m² of corn. The area to be planted with each crop must be decided so that total profit is maximized. Formulate the problem using linear programming."
   ]
  },
  {
   "cell_type": "code",
   "execution_count": null,
   "id": "57933f5b",
   "metadata": {},
   "outputs": [],
   "source": [
    "# installing and importing the mip package\n",
    "!pip install mip\n",
    "\n",
    "from mip import *"
   ]
  },
  {
   "cell_type": "code",
   "execution_count": null,
   "id": "f870339f",
   "metadata": {},
   "outputs": [],
   "source": [
    "model = Model(sense=MAXIMIZE, solver_name=CBC) # implements the model\n",
    "\n",
    "# create/add variables to the model\n",
    "x = {i: model.add_var(var_type=CONTINUOUS, name=f'x_{i}', lb=0.0) for i in ['w', 'r', 'c']}\n",
    "\n",
    "model.objective = 0.11*x['w'] + 0.04*x['r'] + 0.02*x['c']  # objective function (maximize profit)\n",
    "\n",
    "# constraints\n",
    "model += x['w'] >= 80\n",
    "model += x['r'] >= 240\n",
    "model += x['c'] >= 4000\n",
    "model += (x['w']/0.2) + (x['r']/0.3) + (x['c']/0.4) <= 200000\n",
    "model += x['w'] + x['r'] + x['c'] <= 60000\n",
    "\n",
    "model.write(\"model.lp\") # saves the model to a file\n",
    "with open(\"model.lp\") as f: # reads and displays the file content\n",
    "  print(f.read())"
   ]
  },
  {
   "cell_type": "code",
   "execution_count": null,
   "id": "f4435629",
   "metadata": {},
   "outputs": [],
   "source": [
    "def solve(model):\n",
    "  status = model.optimize()\n",
    "\n",
    "  print(\"Status = \", status)\n",
    "  print(f\"Solution value  = {model.objective_value:.2f}\\n\")\n",
    "\n",
    "  print(\"Solution:\")\n",
    "  for v in model.vars:\n",
    "      print(f\"{v.name} = {v.x:.2f}\")\n",
    "\n",
    "solve(model)"
   ]
  },
  {
   "cell_type": "markdown",
   "id": "b4f612ff",
   "metadata": {},
   "source": [
    "2. A factory needs to decide how many units of products A and B to produce. Units of products A and B bring, respectively, profits of R$20.00 and R$30.00. Of course, the factory intends to maximize its profits, but the resources R1, R2, and R3, necessary for the production of these products, are scarce: there are only 10 units of R1, 20 of R2, and 20 of R3. The table below tells how many units of each resource are consumed for the production of one unit of A or B. \n",
    "Resource A B\n",
    "R1 2 1\n",
    "R2 3 3\n",
    "R3 2 4\n",
    "Formulate the factory problem as a linear programming problem."
   ]
  },
  {
   "cell_type": "code",
   "execution_count": null,
   "id": "cb3340e9",
   "metadata": {},
   "outputs": [],
   "source": [
    "model = Model(sense=MAXIMIZE, solver_name=CBC) # implements the model\n",
    "\n",
    "# create/add variables to the model\n",
    "x = {i: model.add_var(var_type=CONTINUOUS, name=f'x_{i}', lb=0.0) for i in ['A', 'B']}\n",
    "\n",
    "model.objective = 20*x['A'] + 30*x['B']  # objective function (maximize profit)\n",
    "\n",
    "# constraints\n",
    "model += 2*x['A'] + x['B'] <= 10\n",
    "model += 3*x['A'] + 3*x['B'] <= 20\n",
    "model += 2*x['A'] + 4*x['B'] <= 20\n",
    "\n",
    "model.write(\"model.lp\") # saves the model to a file\n",
    "with open(\"model.lp\") as f: # reads and displays the file content\n",
    "  print(f.read())"
   ]
  },
  {
   "cell_type": "code",
   "execution_count": null,
   "id": "3a684d66",
   "metadata": {},
   "outputs": [],
   "source": [
    "def solve(model):\n",
    "  status = model.optimize()\n",
    "\n",
    "  print(\"Status = \", status)\n",
    "  print(f\"Solution value  = {model.objective_value:.2f}\\n\")\n",
    "\n",
    "  print(\"Solution:\")\n",
    "  for v in model.vars:\n",
    "      print(f\"{v.name} = {v.x:.2f}\")\n",
    "\n",
    "solve(model)"
   ]
  },
  {
   "cell_type": "markdown",
   "id": "63718780",
   "metadata": {},
   "source": [
    "3. Edson Cordeiro is the director of the Computer Science Center at Jaboatão College. He needs to schedule the center's staff, which operates from 8:00 AM to midnight. Edson monitored the center's utilization at various times of the day and determined that the following number of computer science consultants would be needed:\n",
    "Time of Day\n",
    "Minimum Number of Consultants\n",
    "8:00 AM to Noon 4\n",
    "Noon to 4:00 PM 8\n",
    "4:00 PM to 8:00 PM 10\n",
    "8:00 PM to Midnight 6\n",
    "Two types of consultants can be hired: full-time and part-time. Full-time consultants work eight consecutive hours in any of the following shifts: morning (8:00 AM to 4:00 PM), afternoon (12:00 PM to 8:00 PM), and evening (4:00 PM to midnight). Full-time consultants are paid $40 per hour. Part-time consultants can be hired to work any of the shifts indicated in the table above and are paid $30 per hour. During any given period, there must be at least two full-time consultants on call for each part-time consultant.\n",
    "Edson wants to determine how many full-time and part-time consultants will be needed in each shift to meet the above conditions at minimum cost. Formulate a linear programming model for this problem."
   ]
  },
  {
   "cell_type": "code",
   "execution_count": null,
   "id": "c54eb446",
   "metadata": {},
   "outputs": [],
   "source": [
    "model = Model(sense=MINIMIZE, solver_name=CBC) # implements the model\n",
    "\n",
    "# create/add variables to the model\n",
    "x = {i: model.add_var(var_type=CONTINUOUS, name=f'x_{i}', lb=0.0) for i in range(7)}\n",
    "\n",
    "model.objective = (\n",
    "    120 * xsum(x[i] for i in range(4)) +  # x[0] to x[3]\n",
    "    320 * xsum(x[i] for i in range(4, 7))  # x[4] to x[6]\n",
    ")\n",
    "\n",
    "# constraints\n",
    "model += x[0] + x[4] >= 4\n",
    "model += x[1] + x[4] + x[5] >= 8\n",
    "model += x[2] + x[5] + x[6] >= 10\n",
    "model += x[3] + x[6] >= 6\n",
    "model += x[4] >= 2*x[0]\n",
    "model += x[4] + x[5] >= 2*x[1]\n",
    "model += x[5] + x[6] >= 2*x[2]\n",
    "model += x[6] >= 2*x[3]\n",
    "\n",
    "model.write(\"model.lp\") # saves the model to a file\n",
    "with open(\"model.lp\") as f: # reads and displays the file content\n",
    "  print(f.read())"
   ]
  },
  {
   "cell_type": "code",
   "execution_count": null,
   "id": "348e8cb7",
   "metadata": {},
   "outputs": [],
   "source": [
    "def solve(model):\n",
    "  status = model.optimize()\n",
    "\n",
    "  print(\"Status = \", status)\n",
    "  print(f\"Solution value  = {model.objective_value:.2f}\\n\")\n",
    "\n",
    "  print(\"Solution:\")\n",
    "  for v in model.vars:\n",
    "      print(f\"{v.name} = {v.x:.2f}\")\n",
    "\n",
    "solve(model)"
   ]
  },
  {
   "cell_type": "markdown",
   "id": "145af41c",
   "metadata": {},
   "source": [
    "4. A company that sells household products through an online catalog needs a lot of warehouse space to store them. For now, plans are being made to rent this space for the next five months. The amount of space required and the rental cost in each of these months are known, as shown below:\n",
    "Mothers Required Space (m²) Rental Cost per m²\n",
    "1 $10,000 $65\n",
    "2 $30,000 $100\n",
    "3 $60,000 $135\n",
    "4 $50,000 $160\n",
    "5 $80,000 $190\n",
    "The rental contract only allows that, when renting a space in a given month, that space will remain rented until the last month, with a discount applied at the end based on the term of the contract. For example, if a space is rented in the first month, the client will pay rent of $65 per m² each month until the fifth. Since the contract lasted five months, the discount will be $300 (quite generous, by the way). The discount amounts are presented in the following table.\n",
    "Contract term (in months) Discount per m²\n",
    "1 $0\n",
    "2 $70\n",
    "3 $160\n",
    "4 $220\n",
    "5 $300\n",
    "The objective is to minimize the total rental cost to meet the space requirements, respecting the rules of the contract. Formulate the linear programming model for this problem."
   ]
  },
  {
   "cell_type": "code",
   "execution_count": null,
   "id": "96e2c325",
   "metadata": {},
   "outputs": [],
   "source": [
    "model = Model(sense=MINIMIZE, solver_name=CBC) # implements the model\n",
    "\n",
    "# create/add variables to the model\n",
    "x = {i: model.add_var(var_type=CONTINUOUS, name=f'x_{i}', lb=0.0) for i in range(5)}\n",
    "\n",
    "model.objective = 325*x[0] + 400*x[1] + 405*x[2] + 320*x[3] + 190*x[4] - 300*x[0] - 220*x[1] - 160*x[2] - 70*x[3]\n",
    "\n",
    "# constraints\n",
    "model += x[0] >= 10000\n",
    "model += x[0] + x[1] >= 30000\n",
    "model += x[0] + x[1] + x[2] >= 60000\n",
    "model += x[0] + x[1] + x[2] + x[3] >= 50000\n",
    "model += x[0] + x[1] + x[2] + x[3] + x[4] >= 80000\n",
    "\n",
    "model.write(\"model.lp\") # saves the model to a file\n",
    "with open(\"model.lp\") as f: # reads and displays the file content\n",
    "  print(f.read())"
   ]
  },
  {
   "cell_type": "code",
   "execution_count": null,
   "id": "94a562b9",
   "metadata": {},
   "outputs": [],
   "source": [
    "def solve(model):\n",
    "  status = model.optimize()\n",
    "\n",
    "  print(\"Status = \", status)\n",
    "  print(f\"Solution value  = {model.objective_value:.2f}\\n\")\n",
    "\n",
    "  print(\"Solution:\")\n",
    "  for v in model.vars:\n",
    "      print(f\"{v.name} = {v.x:.2f}\")\n",
    "\n",
    "solve(model)"
   ]
  }
 ],
 "metadata": {
  "language_info": {
   "name": "python"
  }
 },
 "nbformat": 4,
 "nbformat_minor": 5
}
