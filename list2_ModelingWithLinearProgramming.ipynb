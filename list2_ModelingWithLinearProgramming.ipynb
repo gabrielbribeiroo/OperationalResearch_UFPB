{
 "cells": [
  {
   "cell_type": "markdown",
   "id": "88fc6e72",
   "metadata": {},
   "source": [
    "1. The owner of a farm with a cultivable area of ​​200,000 m² wants to decide whether to plant three crops: wheat, rice, and corn. The table below contains the productivity data in kg/m² and the profit/kg for each of the crops:\n",
    "Crop Productivity (kg/m²) Profit (R$/kg)\n",
    "Wheat 0.2 0.11\n",
    "Rice 0.3 0.04\n",
    "Corn 0.4 0.02\n",
    "Since the farm does not have its own warehouse, production is limited to a maximum of 60 tons. The farm has its own demand for these crops and therefore consumes part of its production, requiring the planting of at least 400 m² of wheat, 800 m² of rice, and 10,000 m² of corn. The area to be planted with each crop must be decided so that total profit is maximized. Formulate the problem using linear programming."
   ]
  },
  {
   "cell_type": "code",
   "execution_count": null,
   "id": "57933f5b",
   "metadata": {},
   "outputs": [],
   "source": [
    "# installing and importing the mip package\n",
    "!pip install mip\n",
    "\n",
    "from mip import *"
   ]
  },
  {
   "cell_type": "code",
   "execution_count": null,
   "id": "f870339f",
   "metadata": {},
   "outputs": [],
   "source": [
    "model = Model(sense=MAXIMIZE, solver_name=CBC) # implements the model\n",
    "\n",
    "# create/add variables to the model\n",
    "x = {i: model.add_var(var_type=CONTINUOUS, name=f'x_{i}', lb=0.0) for i in ['w', 'r', 'c']}\n",
    "\n",
    "model.objective = 0.11*x['w'] + 0.04*x['r'] + 0.02*x['c']  # objective function (maximize profit)\n",
    "\n",
    "# constraints\n",
    "model += x['w'] >= 80\n",
    "model += x['r'] >= 240\n",
    "model += x['c'] >= 4000\n",
    "model += (x['w']/0.2) + (x['r']/0.3) + (x['c']/0.4) <= 200000\n",
    "model += x['w'] + x['r'] + x['c'] <= 60000\n",
    "\n",
    "model.write(\"model.lp\") # saves the model to a file\n",
    "with open(\"model.lp\") as f: # reads and displays the file content\n",
    "  print(f.read())"
   ]
  },
  {
   "cell_type": "code",
   "execution_count": null,
   "id": "f4435629",
   "metadata": {},
   "outputs": [],
   "source": [
    "def solve(model):\n",
    "  status = model.optimize()\n",
    "\n",
    "  print(\"Status = \", status)\n",
    "  print(f\"Solution value  = {model.objective_value:.2f}\\n\")\n",
    "\n",
    "  print(\"Solution:\")\n",
    "  for v in model.vars:\n",
    "      print(f\"{v.name} = {v.x:.2f}\")\n",
    "\n",
    "solve(model)"
   ]
  },
  {
   "cell_type": "markdown",
   "id": "b4f612ff",
   "metadata": {},
   "source": [
    "2. A factory needs to decide how many units of products A and B to produce. Units of products A and B bring, respectively, profits of R$20.00 and R$30.00. Of course, the factory intends to maximize its profits, but the resources R1, R2, and R3, necessary for the production of these products, are scarce: there are only 10 units of R1, 20 of R2, and 20 of R3. The table below tells how many units of each resource are consumed for the production of one unit of A or B. \n",
    "Resource A B\n",
    "R1 2 1\n",
    "R2 3 3\n",
    "R3 2 4\n",
    "Formulate the factory problem as a linear programming problem."
   ]
  },
  {
   "cell_type": "code",
   "execution_count": null,
   "id": "cb3340e9",
   "metadata": {},
   "outputs": [],
   "source": [
    "model = Model(sense=MAXIMIZE, solver_name=CBC) # implements the model\n",
    "\n",
    "# create/add variables to the model\n",
    "x = {i: model.add_var(var_type=CONTINUOUS, name=f'x_{i}', lb=0.0) for i in ['A', 'B']}\n",
    "\n",
    "model.objective = 20*x['A'] + 30*x['B']  # objective function (maximize profit)\n",
    "\n",
    "# constraints\n",
    "model += 2*x['A'] + x['B'] <= 10\n",
    "model += 3*x['A'] + 3*x['B'] <= 20\n",
    "model += 2*x['A'] + 4*x['B'] <= 20\n",
    "\n",
    "model.write(\"model.lp\") # saves the model to a file\n",
    "with open(\"model.lp\") as f: # reads and displays the file content\n",
    "  print(f.read())"
   ]
  },
  {
   "cell_type": "code",
   "execution_count": null,
   "id": "3a684d66",
   "metadata": {},
   "outputs": [],
   "source": [
    "def solve(model):\n",
    "  status = model.optimize()\n",
    "\n",
    "  print(\"Status = \", status)\n",
    "  print(f\"Solution value  = {model.objective_value:.2f}\\n\")\n",
    "\n",
    "  print(\"Solution:\")\n",
    "  for v in model.vars:\n",
    "      print(f\"{v.name} = {v.x:.2f}\")\n",
    "\n",
    "solve(model)"
   ]
  }
 ],
 "metadata": {
  "language_info": {
   "name": "python"
  }
 },
 "nbformat": 4,
 "nbformat_minor": 5
}
