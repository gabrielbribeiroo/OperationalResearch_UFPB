{
  "cells": [
    {
      "cell_type": "markdown",
      "metadata": {
        "colab_type": "text",
        "id": "view-in-github"
      },
      "source": [
        "<a href=\"https://colab.research.google.com/github/gabrielbribeiroo/OperationalResearch_UFPB/blob/main/Pratica_Destinacao_Produtos.ipynb\" target=\"_parent\"><img src=\"https://colab.research.google.com/assets/colab-badge.svg\" alt=\"Open In Colab\"/></a>"
      ]
    },
    {
      "cell_type": "markdown",
      "metadata": {
        "id": "qDPM4byI4rXz"
      },
      "source": [
        "# Aula prática: Destinação de Produtos à Fabricas\n",
        "<sup>Exemplo do capítulo 8.3 do livro `Introdução à Pesquisa Operacional` de `Hillier e Lieberman`.</sup>"
      ]
    },
    {
      "cell_type": "markdown",
      "metadata": {
        "id": "17Ur_xiu43Om"
      },
      "source": [
        "## Exercício 1"
      ]
    },
    {
      "cell_type": "markdown",
      "metadata": {
        "id": "S_ECUHr85U0V"
      },
      "source": [
        "### Descrição do problema\n",
        "A Cia. Produtos Melhores decidiu iniciar a produção de quatro produtos novos usando três fábricas que, no momento, têm excesso de capacidade produtiva. Os produtos requerem um esforço de produção comparável por unidade, de modo que a capacidade produtiva disponível das fábricas seja medida pelo número de unidades de qualquer produto que possa ser produzido diariamente, conforme dado na tabela 1. A tabela 2 fornece a taxa de produção diária necessária para atender às vendas projetadas. Cada fábrica é capaz de produzir qualquer um desses produtos, exceto a Fábrica 2, que não pode fabricar o produto 3. Os custos variáveis por unidade de cada produto diferem de fábrica para fábrica, conforme a tabela 3.\n",
        "\n",
        "Tabela 1: Capacidade de produção disponível, por unidade do produto\n",
        "\n",
        "| | Fábrica 1 | Fábrica 2 | Fábrica 3 |\n",
        "|:---|:---:|:---:|:---:|\n",
        "| Capacidade disponível | 75 | 75 | 45 |\n",
        "\n",
        "Tabela 2: Demanda de produção diária\n",
        "\n",
        "| | Produto 1 | Produto 2 | Produto 3 | Produto 4 |\n",
        "|:---|:---:|:---:|:---:|:---:|\n",
        "| Demanda | 20 | 30 | 30 | 40 |\n",
        "\n",
        "Tabela 3: Custo unitário por produto\n",
        "\n",
        "| | Produto 1 | Produto 2 | Produto 3 | Produto 4 |\n",
        "|:---|:---:|:---:|:---:|:---:|\n",
        "| Fábrica 1 | 41 | 27 | 28 | 24 |\n",
        "| Fábrica 2 | 40 | 29 | - | 23 |\n",
        "| Fábrica 3 | 37 | 30 | 27 | 21 |\n",
        "\n",
        "A gerência precisa tomar uma decisão sobre como dividir a fabricação dos produtos entre as fábricas, e decidiu permitir a divisão da produção de um mesmo produto em mais de uma fábrica.\n",
        "\n",
        "Escreva um modelo para determinar quais fábricas produzirão quais produtos e a que custo total."
      ]
    },
    {
      "cell_type": "markdown",
      "metadata": {
        "id": "r0sGHJD97MIz"
      },
      "source": [
        "### Resolução"
      ]
    },
    {
      "cell_type": "markdown",
      "metadata": {},
      "source": [
        "#### Instalação do Mip e funções usadas posteriormente"
      ]
    },
    {
      "cell_type": "code",
      "execution_count": null,
      "metadata": {},
      "outputs": [],
      "source": [
        "!pip install mip\n",
        "from mip import *"
      ]
    },
    {
      "cell_type": "code",
      "execution_count": null,
      "metadata": {},
      "outputs": [],
      "source": [
        "# funcões usadas posteriormente:\n",
        "\n",
        "# resolve o modelo e mostra os valores das variáveis\n",
        "def solve(model):\n",
        "  status = model.optimize()\n",
        "\n",
        "  print(\"Status = \", status)\n",
        "  print(f\"Solution value  = {model.objective_value:.2f}\\n\")\n",
        "\n",
        "  print(\"Solution:\")\n",
        "  for v in model.vars:\n",
        "      print(f\"{v.name} = {v.x:.2f}\")\n",
        "\n",
        "\n",
        "# salva modelo em arquivo lp, e mostra o conteúdo\n",
        "def save(model, filename):\n",
        "  model.write(filename) # salva modelo em arquivo\n",
        "  with open(filename, \"r\") as f: # lê e exibe conteúdo do arquivo\n",
        "    print(f.read())"
      ]
    },
    {
      "cell_type": "markdown",
      "metadata": {},
      "source": [
        "####**Conjuntos**\n",
        "$P$: Conjunto dos produtos \\\\\n",
        "$F$: Conjunto das fábricas"
      ]
    },
    {
      "cell_type": "code",
      "execution_count": null,
      "metadata": {},
      "outputs": [],
      "source": [
        "P = range(4)\n",
        "F = range(3)"
      ]
    },
    {
      "cell_type": "markdown",
      "metadata": {},
      "source": [
        "####**Dados**\n",
        "\n",
        "$D_{i}$: Demanda do produto $i$ \\\\\n",
        "$L_{j}$: Capacidade da fábrica $j$ \\\\\n",
        "$C_{ij}$: Custo de produção de uma unidade do produto $i$ na fábrica $j$"
      ]
    },
    {
      "cell_type": "code",
      "execution_count": null,
      "metadata": {},
      "outputs": [],
      "source": [
        "C = [\n",
        "    [41, 40, 37],\n",
        "    [27, 29, 30],\n",
        "    [28, 999, 27],\n",
        "    [24, 23, 21]\n",
        "]\n",
        "\n",
        "L = [75,75,45]\n",
        "\n",
        "D = [20,30,30,40]"
      ]
    },
    {
      "cell_type": "code",
      "execution_count": null,
      "metadata": {
        "colab": {
          "base_uri": "https://localhost:8080/"
        },
        "id": "jP4fukpK7X1h",
        "outputId": "864bbc5d-7dfa-4286-c137-730b1084415a"
      },
      "outputs": [
        {
          "name": "stdout",
          "output_type": "stream",
          "text": [
            "\\Problem name: \n",
            "\n",
            "Minimize\n",
            "OBJROW: 41 x_1_1 + 27 x_1_2 + 28 x_1_3 + 24 x_1_4 + 40 x_2_1 + 29 x_2_2 + 23 x_2_4 + 37 x_3_1 + 30 x_3_2 + 27 x_3_3\n",
            " + 21 x_3_4\n",
            "Subject To\n",
            "constr(0):  x_1_1 + x_1_2 + x_1_3 + x_1_4 <= 75\n",
            "constr(1):  x_2_1 + x_2_2 + x_2_3 + x_2_4 <= 75\n",
            "constr(2):  x_3_1 + x_3_2 + x_3_3 + x_3_4 <= 45\n",
            "constr(3):  x_1_1 + x_2_1 + x_3_1 = 20\n",
            "constr(4):  x_1_2 + x_2_2 + x_3_2 = 30\n",
            "constr(5):  x_1_3 + x_2_3 + x_3_3 = 30\n",
            "constr(6):  x_1_4 + x_2_4 + x_3_4 = 40\n",
            "constr(7):  x_2_3 = 0\n",
            "Bounds\n",
            "End\n",
            "\n"
          ]
        }
      ],
      "source": [
        "# matriz de aptidões\n",
        "fit = [[41, 27, 28, 24],  # F1-P1, F1-P2, F1-P3, F1-P4\n",
        "       [40,\t29,\t0,\t23],  # F2-P1, F2-P2, F2-P3, F2-P4\n",
        "       [37,\t30,\t27,\t21]]  # F3-P1, F3-P2, F3-P3, F3-P4\n",
        "\n",
        "n_ind = 3 # número de fábricas\n",
        "n_prod = 4 # número de produtos\n",
        "\n",
        "# Instanciando o modelo e atribuindo que a função objetivo é de minimização\n",
        "model_1 = Model(sense=MINIMIZE, solver_name=CBC) # ... criar modelo\n",
        "\n",
        "# Fazendo list comprehension para criar matriz de variaveis com a mesma\n",
        "# estrutura do fit acima e iterando para representar 3 fab. e 4 prod.\n",
        "x = [[model_1.add_var(var_type=\"INTEGER\", name = f\"x_{i+1}_{j+1}\") for j in range(n_prod)]\n",
        "            for i in range(n_ind)]\n",
        "\n",
        "# Função objetivo\n",
        "model_1.objective = fit[0][0]*x[0][0] + fit[0][1]*x[0][1] + fit[0][2]*x[0][2] + fit[0][3]*x[0][3] + \\\n",
        "                    fit[1][0]*x[1][0] + fit[1][1]*x[1][1] + fit[1][2]*x[1][2] + fit[1][3]*x[1][3] + \\\n",
        "                    fit[2][0]*x[2][0] + fit[2][1]*x[2][1] + fit[2][2]*x[2][2] + fit[2][3]*x[2][3]\n",
        "\n",
        "# Restrições\n",
        "\n",
        "# Fábricas\n",
        "model_1 += x[0][0] + x[0][1] + x[0][2] + x[0][3] <= 75\n",
        "model_1 += x[1][0] + x[1][1] + x[1][2] + x[1][3] <= 75\n",
        "model_1 += x[2][0] + x[2][1] + x[2][2] + x[2][3] <= 45\n",
        "\n",
        "# Produtos\n",
        "model_1 += x[0][0] + x[1][0] + x[2][0] == 20\n",
        "model_1 += x[0][1] + x[1][1] + x[2][1] == 30\n",
        "model_1 += x[0][2] + x[1][2] + x[2][2] == 30\n",
        "model_1 += x[0][3] + x[1][3] + x[2][3] == 40\n",
        "\n",
        "model_1 += x[1][2] == 0\n",
        "\n",
        "save(model_1, \"model1.lp\")"
      ]
    },
    {
      "cell_type": "code",
      "execution_count": null,
      "metadata": {
        "colab": {
          "base_uri": "https://localhost:8080/"
        },
        "id": "hHo6N8Pw7Zpf",
        "outputId": "a1cc19b6-26f8-4394-b30a-0aec1fadf040"
      },
      "outputs": [
        {
          "name": "stdout",
          "output_type": "stream",
          "text": [
            "Status =  OptimizationStatus.OPTIMAL\n",
            "Solution value  = 3260.00\n",
            "\n",
            "Solution:\n",
            "x_1_1 = 0.00\n",
            "x_1_2 = 30.00\n",
            "x_1_3 = 30.00\n",
            "x_1_4 = 0.00\n",
            "x_2_1 = 0.00\n",
            "x_2_2 = 0.00\n",
            "x_2_3 = 0.00\n",
            "x_2_4 = 15.00\n",
            "x_3_1 = 20.00\n",
            "x_3_2 = 0.00\n",
            "x_3_3 = 0.00\n",
            "x_3_4 = 25.00\n"
          ]
        }
      ],
      "source": [
        "solve(model_1)"
      ]
    },
    {
      "cell_type": "markdown",
      "metadata": {
        "id": "aMs1wHIugRae"
      },
      "source": [
        "## Exercício 2\n",
        "\n",
        "Refaça o modelo anterior, dessa vez impedindo a divisão de produtos entre fábricas. Ou seja, cada produto deve ser integralmente produzido em uma única fábrica, para eliminar custos ocultos associados à divisão da produção. A cada fábrica deve ser destinado pelo menos um produto."
      ]
    },
    {
      "cell_type": "markdown",
      "metadata": {
        "id": "gKJj1JLUgRag"
      },
      "source": [
        "### Resolução"
      ]
    },
    {
      "cell_type": "code",
      "execution_count": null,
      "metadata": {
        "colab": {
          "base_uri": "https://localhost:8080/"
        },
        "id": "92okSArZgRah",
        "outputId": "3b633e13-a4b5-4f07-f4f8-d42fcac1aae4"
      },
      "outputs": [
        {
          "name": "stdout",
          "output_type": "stream",
          "text": [
            "\\Problem name: \n",
            "\n",
            "Minimize\n",
            "OBJROW: 820 x_1_1 + 810 x_1_2 + 840 x_1_3 + 960 x_1_4 + 800 x_2_1 + 870 x_2_2 + 920 x_2_4 + 740 x_3_1 + 900 x_3_2 + 810 x_3_3\n",
            " + 840 x_3_4\n",
            "Subject To\n",
            "constr(0):  20 x_1_1 + 30 x_1_2 + 30 x_1_3 + 40 x_1_4 <= 75\n",
            "constr(1):  20 x_2_1 + 30 x_2_2 + 30 x_2_3 + 40 x_2_4 <= 75\n",
            "constr(2):  20 x_3_1 + 30 x_3_2 + 30 x_3_3 + 40 x_3_4 <= 45\n",
            "constr(3):  x_1_1 + x_1_2 + x_1_3 + x_1_4 >= 1\n",
            "constr(4):  x_2_1 + x_2_2 + x_2_3 + x_2_4 >= 1\n",
            "constr(5):  x_3_1 + x_3_2 + x_3_3 + x_3_4 >= 1\n",
            "constr(6):  x_1_1 + x_2_1 + x_3_1 = 1\n",
            "constr(7):  x_1_2 + x_2_2 + x_3_2 = 1\n",
            "constr(8):  x_1_3 + x_2_3 + x_3_3 = 1\n",
            "constr(9):  x_1_4 + x_2_4 + x_3_4 = 1\n",
            "constr(10):  x_2_3 = 0\n",
            "Bounds\n",
            " 0 <= x_1_1 <= 1\n",
            " 0 <= x_1_2 <= 1\n",
            " 0 <= x_1_3 <= 1\n",
            " 0 <= x_1_4 <= 1\n",
            " 0 <= x_2_1 <= 1\n",
            " 0 <= x_2_2 <= 1\n",
            " 0 <= x_2_3 <= 1\n",
            " 0 <= x_2_4 <= 1\n",
            " 0 <= x_3_1 <= 1\n",
            " 0 <= x_3_2 <= 1\n",
            " 0 <= x_3_3 <= 1\n",
            " 0 <= x_3_4 <= 1\n",
            "Integers\n",
            "x_1_1 x_1_2 x_1_3 x_1_4 x_2_1 x_2_2 x_2_3 x_2_4 x_3_1 x_3_2 \n",
            "x_3_3 x_3_4 \n",
            "End\n",
            "\n"
          ]
        }
      ],
      "source": [
        "# matriz de aptidões\n",
        "fit = [[820, 810, 840, 960],  # F1-P1, F1-P2, F1-P3, F1-P4\n",
        "       [800, 870,\t0,\t920],  # F2-P1, F2-P2, F2-P3, F2-P4\n",
        "       [740, 900,\t810,\t840]]  # F3-P1, F3-P2, F3-P3, F3-P4\n",
        "\n",
        "n_ind = 3 # número de fábricas\n",
        "n_prod = 4 # número de produtos\n",
        "\n",
        "# Instanciando o modelo e atribuindo que a função objetivo é de minimização\n",
        "model_2 = Model(sense=MINIMIZE, solver_name=CBC) # ... criar modelo\n",
        "\n",
        "# Fazendo list comprehension para criar matriz de variaveis com a mesma\n",
        "# estrutura do fit acima e iterando para representar 3 fab. e 4 prod.\n",
        "x = [[model_2.add_var(var_type=BINARY, name = f\"x_{i+1}_{j+1}\") for j in range(n_prod)]\n",
        "            for i in range(n_ind)]\n",
        "\n",
        "# Função objetivo\n",
        "model_2.objective = fit[0][0]*x[0][0] + fit[0][1]*x[0][1] + fit[0][2]*x[0][2] + fit[0][3]*x[0][3] + \\\n",
        "                    fit[1][0]*x[1][0] + fit[1][1]*x[1][1] + fit[1][2]*x[1][2] + fit[1][3]*x[1][3] + \\\n",
        "                    fit[2][0]*x[2][0] + fit[2][1]*x[2][1] + fit[2][2]*x[2][2] + fit[2][3]*x[2][3]\n",
        "\n",
        "# Restrições\n",
        "\n",
        "# Fábricas\n",
        "model_2 += 20*x[0][0] + 30*x[0][1] + 30*x[0][2] + 40*x[0][3] <= 75\n",
        "model_2 += 20*x[1][0] + 30*x[1][1] + 30*x[1][2] + 40*x[1][3] <= 75\n",
        "model_2 += 20*x[2][0] + 30*x[2][1] + 30*x[2][2] + 40*x[2][3] <= 45\n",
        "\n",
        "# Produção por fábrica\n",
        "model_2 += x[0][0] + x[0][1] + x[0][2] + x[0][3] >= 1\n",
        "model_2 += x[1][0] + x[1][1] + x[1][2] + x[1][3] >= 1\n",
        "model_2 += x[2][0] + x[2][1] + x[2][2] + x[2][3] >= 1\n",
        "\n",
        "# Produtos\n",
        "model_2 += x[0][0] + x[1][0] + x[2][0] == 1\n",
        "model_2 += x[0][1] + x[1][1] + x[2][1] == 1\n",
        "model_2 += x[0][2] + x[1][2] + x[2][2] == 1\n",
        "model_2 += x[0][3] + x[1][3] + x[2][3] == 1\n",
        "model_2 += x[1][2] == 0\n",
        "\n",
        "save(model_2, \"model2.lp\")"
      ]
    },
    {
      "cell_type": "code",
      "execution_count": null,
      "metadata": {
        "colab": {
          "base_uri": "https://localhost:8080/"
        },
        "id": "D0hi2a4UgRai",
        "outputId": "ac71a73b-c8ef-4bef-a450-61f25999469b"
      },
      "outputs": [
        {
          "name": "stdout",
          "output_type": "stream",
          "text": [
            "Status =  OptimizationStatus.OPTIMAL\n",
            "Solution value  = 3290.00\n",
            "\n",
            "Solution:\n",
            "x_1_1 = 0.00\n",
            "x_1_2 = 1.00\n",
            "x_1_3 = 1.00\n",
            "x_1_4 = 0.00\n",
            "x_2_1 = 1.00\n",
            "x_2_2 = 0.00\n",
            "x_2_3 = 0.00\n",
            "x_2_4 = 0.00\n",
            "x_3_1 = 0.00\n",
            "x_3_2 = 0.00\n",
            "x_3_3 = 0.00\n",
            "x_3_4 = 1.00\n"
          ]
        }
      ],
      "source": [
        "solve(model_2)"
      ]
    }
  ],
  "metadata": {
    "colab": {
      "include_colab_link": true,
      "provenance": []
    },
    "kernelspec": {
      "display_name": "Python 3",
      "name": "python3"
    },
    "language_info": {
      "codemirror_mode": {
        "name": "ipython",
        "version": 3
      },
      "file_extension": ".py",
      "mimetype": "text/x-python",
      "name": "python",
      "nbconvert_exporter": "python",
      "pygments_lexer": "ipython3",
      "version": "3.8.10"
    }
  },
  "nbformat": 4,
  "nbformat_minor": 0
}
