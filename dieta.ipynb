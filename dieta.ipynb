{
  "nbformat": 4,
  "nbformat_minor": 0,
  "metadata": {
    "colab": {
      "provenance": [],
      "include_colab_link": true
    },
    "kernelspec": {
      "name": "python3",
      "display_name": "Python 3"
    },
    "language_info": {
      "name": "python"
    }
  },
  "cells": [
    {
      "cell_type": "markdown",
      "metadata": {
        "id": "view-in-github",
        "colab_type": "text"
      },
      "source": [
        "<a href=\"https://colab.research.google.com/github/gabrielbribeiroo/OperationalResearch_UFPB/blob/main/dieta.ipynb\" target=\"_parent\"><img src=\"https://colab.research.google.com/assets/colab-badge.svg\" alt=\"Open In Colab\"/></a>"
      ]
    },
    {
      "cell_type": "markdown",
      "source": [
        "# Modelo para o exercício da dieta da Aula 2"
      ],
      "metadata": {
        "id": "bWRQiUiM5rAO"
      }
    },
    {
      "cell_type": "markdown",
      "source": [
        "## Instalação e importação do pacote mip"
      ],
      "metadata": {
        "id": "XA20GmJw3-uZ"
      }
    },
    {
      "cell_type": "code",
      "execution_count": null,
      "metadata": {
        "colab": {
          "base_uri": "https://localhost:8080/"
        },
        "id": "beMNpmT1uuGm",
        "outputId": "b070db24-d7ed-45b2-a6a9-e9c4ccbf1b10"
      },
      "outputs": [
        {
          "output_type": "stream",
          "name": "stdout",
          "text": [
            "Collecting mip\n",
            "  Downloading mip-1.15.0-py3-none-any.whl.metadata (21 kB)\n",
            "Collecting cffi==1.15.* (from mip)\n",
            "  Downloading cffi-1.15.1-cp311-cp311-manylinux_2_17_x86_64.manylinux2014_x86_64.whl.metadata (1.1 kB)\n",
            "Requirement already satisfied: pycparser in /usr/local/lib/python3.11/dist-packages (from cffi==1.15.*->mip) (2.22)\n",
            "Downloading mip-1.15.0-py3-none-any.whl (15.3 MB)\n",
            "\u001b[2K   \u001b[90m━━━━━━━━━━━━━━━━━━━━━━━━━━━━━━━━━━━━━━━━\u001b[0m \u001b[32m15.3/15.3 MB\u001b[0m \u001b[31m3.3 MB/s\u001b[0m eta \u001b[36m0:00:00\u001b[0m\n",
            "\u001b[?25hDownloading cffi-1.15.1-cp311-cp311-manylinux_2_17_x86_64.manylinux2014_x86_64.whl (462 kB)\n",
            "\u001b[2K   \u001b[90m━━━━━━━━━━━━━━━━━━━━━━━━━━━━━━━━━━━━━━━━\u001b[0m \u001b[32m462.6/462.6 kB\u001b[0m \u001b[31m20.7 MB/s\u001b[0m eta \u001b[36m0:00:00\u001b[0m\n",
            "\u001b[?25hInstalling collected packages: cffi, mip\n",
            "  Attempting uninstall: cffi\n",
            "    Found existing installation: cffi 1.17.1\n",
            "    Uninstalling cffi-1.17.1:\n",
            "      Successfully uninstalled cffi-1.17.1\n",
            "\u001b[31mERROR: pip's dependency resolver does not currently take into account all the packages that are installed. This behaviour is the source of the following dependency conflicts.\n",
            "pygit2 1.18.0 requires cffi>=1.17.0, but you have cffi 1.15.1 which is incompatible.\u001b[0m\u001b[31m\n",
            "\u001b[0mSuccessfully installed cffi-1.15.1 mip-1.15.0\n"
          ]
        }
      ],
      "source": [
        "!pip install mip\n",
        "\n",
        "from mip import *"
      ]
    },
    {
      "cell_type": "markdown",
      "source": [
        "## Criação do modelo"
      ],
      "metadata": {
        "id": "___iDKK44EdN"
      }
    },
    {
      "cell_type": "markdown",
      "source": [
        "$$\\min 1.5 x_0 + 2 x_1 + 3 x_2 + 0.8 x_3$$\n",
        "S.a.\n",
        "$$7 x_0 + 8 x_1 + 30 x_2 + 6 x_3 \\geq 3$$\n",
        "$$550 x_0 + 300 x_1 + 400 x_2 + 250 x_3 \\geq 50$$\n",
        "$$x_0, x_1, x_2, x_3 \\geq 0$$"
      ],
      "metadata": {
        "id": "1oQnaJlVr-rd"
      }
    },
    {
      "cell_type": "code",
      "source": [
        "modelo = Model(sense=MINIMIZE, solver_name=CBC)\n",
        "\n",
        "# Criação da variável\n",
        "x = [modelo.add_var(var_type=CONTINUOUS, name=f\"x_{i}\", lb=0.0) for i in range(4)]\n",
        "\n",
        "# Função objetivo = minimizar custo total\n",
        "modelo.objective = 1.5*x[0] + 2*x[1] + 3*x[2] + 0.8*x[3]\n",
        "\n",
        "# Restrição: quantidade minína de vitamina A\n",
        "modelo += 7*x[0] + 8*x[1] + 30*x[2] + 6*x[3] >= 3\n",
        "\n",
        "# Restrição: quantidade miníma de vitamina C\n",
        "modelo += 550*x[0] + 300*x[1] + 400*x[2] + 250*x[3] >= 50\n",
        "\n",
        "modelo.write(\"modelo.lp\") # salva modelo em arquivo\n",
        "with open(\"modelo.lp\") as f: # Lê e exibe conteúdo do arquivo\n",
        "  print(f.read())"
      ],
      "metadata": {
        "id": "0Qq7qH864NdX",
        "colab": {
          "base_uri": "https://localhost:8080/"
        },
        "outputId": "4d87cdf0-3fa4-4ef3-d55a-ab5610755812"
      },
      "execution_count": null,
      "outputs": [
        {
          "output_type": "stream",
          "name": "stdout",
          "text": [
            "\\Problem name: \n",
            "\n",
            "Minimize\n",
            "OBJROW: 1.50000 x_0 + 2 x_1 + 3 x_2 + 0.80000 x_3\n",
            "Subject To\n",
            "constr(0):  7 x_0 + 8 x_1 + 30 x_2 + 6 x_3 >= 3\n",
            "constr(1):  550 x_0 + 300 x_1 + 400 x_2 + 250 x_3 >= 50\n",
            "Bounds\n",
            "End\n",
            "\n"
          ]
        }
      ]
    },
    {
      "cell_type": "markdown",
      "source": [
        "## Resolução com Python-MIP"
      ],
      "metadata": {
        "id": "gOSVfM7b5B2l"
      }
    },
    {
      "cell_type": "code",
      "source": [
        "status = modelo.optimize()\n",
        "\n",
        "print(\"Status = \", status)\n",
        "print(f\"Solution value  = {modelo.objective_value:.4f}\\n\")\n",
        "\n",
        "print(\"Solution:\")\n",
        "for v in modelo.vars:\n",
        "  print(f\"{v.name} = {v.x:.4f}\")"
      ],
      "metadata": {
        "colab": {
          "base_uri": "https://localhost:8080/"
        },
        "id": "ULVb_jQQ4_23",
        "outputId": "42fe5075-7396-40bc-dfb4-719235043433"
      },
      "execution_count": null,
      "outputs": [
        {
          "output_type": "stream",
          "name": "stdout",
          "text": [
            "Status =  OptimizationStatus.OPTIMAL\n",
            "Solution value  = 0.3118\n",
            "\n",
            "Solution:\n",
            "x_0 = 0.0000\n",
            "x_1 = 0.0000\n",
            "x_2 = 0.0882\n",
            "x_3 = 0.0588\n"
          ]
        }
      ]
    }
  ]
}