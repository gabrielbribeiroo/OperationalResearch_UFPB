{
  "cells": [
    {
      "cell_type": "markdown",
      "metadata": {
        "colab_type": "text",
        "id": "view-in-github"
      },
      "source": [
        "<a href=\"https://colab.research.google.com/github/gabrielbribeiroo/OperationalResearch_UFPB/blob/main/Pratica_PLI_Corte_e_Empregados.ipynb\" target=\"_parent\"><img src=\"https://colab.research.google.com/assets/colab-badge.svg\" alt=\"Open In Colab\"/></a>"
      ]
    },
    {
      "cell_type": "markdown",
      "metadata": {
        "id": "KkkfGB7mizn4"
      },
      "source": [
        "# Aula prática: Programação Linear Inteira"
      ]
    },
    {
      "cell_type": "markdown",
      "metadata": {
        "id": "6Pq0qYFUi66C"
      },
      "source": [
        "## Exercício 1\n",
        "<sup>Exercício 3.7 do livro `Pesquisa Operacional` de `Arenales, Armentano, Morabito e Yanasse`.</sup>"
      ]
    },
    {
      "cell_type": "markdown",
      "metadata": {
        "id": "18u4P6_fjHTa"
      },
      "source": [
        "### Descrição do problema\n",
        "Em cada dia da semana, uma loja requer um número de empregados em tempo integral, de acordo com a tabela abaixo. Cada empregado deve trabalhar cinco dias consecutivos e descansar dois. Cada empregado recebe R$30 por dia.\n",
        "\n",
        "| | Segunda | Terça | Quarta | Quinta | Sexta | Sabádo | Domingo |\n",
        "|:---|:---:|:---:|:---:|:---:|:---:|:---:|:---:|\n",
        "| Empregados | 10 | 6 | 8 | 5 | 9 | 4 | 6 |\n",
        "\n",
        "Determine o número de empregados em tempo integral de forma a minimizar a despesa total com salários."
      ]
    },
    {
      "cell_type": "markdown",
      "metadata": {
        "id": "EW2_LyQlkB9Y"
      },
      "source": [
        "### Resolução"
      ]
    },
    {
      "cell_type": "code",
      "execution_count": null,
      "metadata": {
        "colab": {
          "base_uri": "https://localhost:8080/"
        },
        "id": "UToKjaulioTm",
        "outputId": "283b2bb5-3649-4b14-b075-104203acb0e5"
      },
      "outputs": [
        {
          "name": "stdout",
          "output_type": "stream",
          "text": [
            "Collecting mip\n",
            "  Downloading mip-1.15.0-py3-none-any.whl.metadata (21 kB)\n",
            "Collecting cffi==1.15.* (from mip)\n",
            "  Downloading cffi-1.15.1-cp311-cp311-manylinux_2_17_x86_64.manylinux2014_x86_64.whl.metadata (1.1 kB)\n",
            "Requirement already satisfied: pycparser in /usr/local/lib/python3.11/dist-packages (from cffi==1.15.*->mip) (2.22)\n",
            "Downloading mip-1.15.0-py3-none-any.whl (15.3 MB)\n",
            "\u001b[2K   \u001b[90m━━━━━━━━━━━━━━━━━━━━━━━━━━━━━━━━━━━━━━━━\u001b[0m \u001b[32m15.3/15.3 MB\u001b[0m \u001b[31m9.1 MB/s\u001b[0m eta \u001b[36m0:00:00\u001b[0m\n",
            "\u001b[?25hDownloading cffi-1.15.1-cp311-cp311-manylinux_2_17_x86_64.manylinux2014_x86_64.whl (462 kB)\n",
            "\u001b[2K   \u001b[90m━━━━━━━━━━━━━━━━━━━━━━━━━━━━━━━━━━━━━━━━\u001b[0m \u001b[32m462.6/462.6 kB\u001b[0m \u001b[31m38.5 MB/s\u001b[0m eta \u001b[36m0:00:00\u001b[0m\n",
            "\u001b[?25hInstalling collected packages: cffi, mip\n",
            "  Attempting uninstall: cffi\n",
            "    Found existing installation: cffi 1.17.1\n",
            "    Uninstalling cffi-1.17.1:\n",
            "      Successfully uninstalled cffi-1.17.1\n",
            "\u001b[31mERROR: pip's dependency resolver does not currently take into account all the packages that are installed. This behaviour is the source of the following dependency conflicts.\n",
            "pygit2 1.18.0 requires cffi>=1.17.0, but you have cffi 1.15.1 which is incompatible.\u001b[0m\u001b[31m\n",
            "\u001b[0mSuccessfully installed cffi-1.15.1 mip-1.15.0\n"
          ]
        }
      ],
      "source": [
        "# instalação e importação do pacote mip\n",
        "!pip install mip\n",
        "from mip import *\n",
        "\n",
        "# funcões usadas posteriormente:\n",
        "\n",
        "# resolve o modelo e mostra os valores das variáveis\n",
        "def solve(model):\n",
        "  status = model.optimize()\n",
        "\n",
        "  print(\"Status = \", status)\n",
        "  print(f\"Solution value  = {model.objective_value:.2f}\\n\")\n",
        "\n",
        "  print(\"Solution:\")\n",
        "  for v in model.vars:\n",
        "      print(f\"{v.name} = {v.x:.2f}\")\n",
        "\n",
        "\n",
        "# salva modelo em arquivo lp, e mostra o conteúdo\n",
        "def save(model, filename):\n",
        "  model.write(filename) # salva modelo em arquivo\n",
        "  with open(filename, \"r\") as f: # lê e exibe conteúdo do arquivo\n",
        "    print(f.read())"
      ]
    },
    {
      "cell_type": "markdown",
      "metadata": {},
      "source": [
        "**negrito**#### Dados"
      ]
    },
    {
      "cell_type": "markdown",
      "metadata": {},
      "source": [
        "$D = \\{0, 1, 2, 3, 4, 5, 6\\}$: conjunto de dias \\\\\n",
        "$e_d$: quantidade mínima de empregados no dia $d \\in D$ \\\\\n",
        "$D^*_d$: conjunto de dias que antecedem o dia $d$ em, no máximo, 5 dias. Isto é, se um funcionário começar a trabalhar em um dia $p \\in D^*_d$, então ele também trabalhará no dia $d$. Observe que o próprio $d$ pertence a $D^*_d$."
      ]
    },
    {
      "cell_type": "code",
      "execution_count": null,
      "metadata": {},
      "outputs": [],
      "source": [
        "D = range(7)\n",
        "e = [10, 6, 8, 5, 9, 4, 6]\n",
        "\n",
        "def Dstar(d):\n",
        "  p = d + 2  # before first day\n",
        "  for _ in range(5):\n",
        "    p = (p + 1) % 7\n",
        "    yield p"
      ]
    },
    {
      "cell_type": "markdown",
      "metadata": {},
      "source": [
        "#### Variável\n",
        "$x_d$: quantidade de empregados que começam a trabalhar no dia $d \\in D$ \\\\"
      ]
    },
    {
      "cell_type": "markdown",
      "metadata": {},
      "source": [
        "#### Modelo\n",
        "\n",
        "$$\\min \\sum_{d \\in D} x_d$$\n",
        "s.t.\n",
        "$$\\sum_{p \\in D^*_d} x_p \\geq e_d; \\forall d \\in D$$\n",
        "$$x_d \\geq 0; \\forall d \\in D$$\n",
        "$$x_d \\in \\mathbb{Z}; \\forall d \\in D$$"
      ]
    },
    {
      "cell_type": "code",
      "execution_count": null,
      "metadata": {
        "colab": {
          "base_uri": "https://localhost:8080/"
        },
        "id": "hpkM_kZ1qthr",
        "outputId": "25e920bc-ed57-48c2-b819-e4d66e2aa563"
      },
      "outputs": [
        {
          "name": "stdout",
          "output_type": "stream",
          "text": [
            "\\Problem name: \n",
            "\n",
            "Minimize\n",
            "OBJROW: x1 + x2 + x3 + x4 + x5 + x6 + x7\n",
            "Subject To\n",
            "constr(0):  x1 + x4 + x5 + x6 + x7 >= 10\n",
            "constr(1):  x1 + x2 + x5 + x6 + x7 >= 6\n",
            "constr(2):  x1 + x2 + x3 + x6 + x7 >= 8\n",
            "constr(3):  x1 + x2 + x3 + x4 + x7 >= 5\n",
            "constr(4):  x1 + x2 + x3 + x4 + x5 >= 9\n",
            "constr(5):  x2 + x3 + x4 + x5 + x6 >= 4\n",
            "constr(6):  x3 + x4 + x5 + x6 + x7 >= 6\n",
            "Bounds\n",
            "Integers\n",
            "x1 x2 x3 x4 x5 x6 x7 \n",
            "End\n",
            "\n"
          ]
        }
      ],
      "source": [
        "model = Model(sense=MINIMIZE, solver_name=CBC)\n",
        "\n",
        "x = [model.add_var(var_type=INTEGER, name=f\"x_{d}\", lb=0) for d in D]\n",
        "\n",
        "model.objective = xsum(x[d] for d in D)\n",
        "\n",
        "for d in D:\n",
        "  model += xsum(x[p] for p in Dstar(d)) >= e[d]\n",
        "\n",
        "save(model, \"model.lp\")"
      ]
    },
    {
      "cell_type": "code",
      "execution_count": null,
      "metadata": {
        "colab": {
          "base_uri": "https://localhost:8080/"
        },
        "id": "ob9Rw0Pvdjrv",
        "outputId": "282b6cbc-2778-4364-ca94-a27d660fadc6"
      },
      "outputs": [
        {
          "name": "stdout",
          "output_type": "stream",
          "text": [
            "Status =  OptimizationStatus.OPTIMAL\n",
            "Solution value  = 11.00\n",
            "\n",
            "Solution:\n",
            "x1 = 5.00\n",
            "x2 = 0.00\n",
            "x3 = 1.00\n",
            "x4 = 3.00\n",
            "x5 = 0.00\n",
            "x6 = 2.00\n",
            "x7 = 0.00\n"
          ]
        }
      ],
      "source": [
        "solve(model)"
      ]
    },
    {
      "cell_type": "markdown",
      "metadata": {
        "id": "Bzy5FAyisRxv"
      },
      "source": [
        "## Exercício 2\n",
        "<sup>Exercício da lista do Professor Marcone Jamilson (UFOP)</sup>"
      ]
    },
    {
      "cell_type": "markdown",
      "metadata": {
        "id": "ZhYAmS2fso88"
      },
      "source": [
        "### Descrição do problema\n",
        "Uma serralheria dispõe de barras de 6 metros de comprimento que devem ser cortadas para obter barras menores nos seguintes tamanhos: 50 barras de 2 metros, 60 barras de 3 metros e 90 barras de 4 metros. Elabore um modelo de programação linear inteira que minimize a quantidade de barras utilizadas.\n",
        "\n",
        "Dica: enumere as possíveis formas de se cortar uma barra de 6 metros em barras menores dos tamanhos listados acima."
      ]
    },
    {
      "cell_type": "markdown",
      "metadata": {},
      "source": [
        "### Resolução"
      ]
    },
    {
      "cell_type": "markdown",
      "metadata": {},
      "source": [
        "Neste exercício, precisaremos construir uma tabela, a partir das informações disponíveis no enunciado, que indique cada uma das maneiras de cortar a barra de 6 metros e quantas barras menores cada um desses cortes fornecerá:\n",
        "\n",
        "| | Barra 2m | Barra 3m | Barra 4m | Resto |\n",
        "|:---|:---:|:---:|:---:|:---:|\n",
        "| Corte 1 | 3 | 0 | 0 | 0 |\n",
        "| Corte 2 | 1 | 1 | 0 | 1 |\n",
        "| Corte 3 | 1 | 0 | 1 | 0 |\n",
        "| Corte 4 | 0 | 2 | 0 | 0 |"
      ]
    },
    {
      "cell_type": "markdown",
      "metadata": {},
      "source": [
        "#### Modelo\n",
        "\n",
        "$x_i$: quantidade do corte $i$ realizado. \\\\\n",
        "\n",
        "$$\\min x_1 + x_2 + x_3 + x_4$$\n",
        "s.t.\n",
        "\n",
        "$$3 x_1 + x_2 + x_3 \\geq 50$$\n",
        "$$x_2 + 2 x_4 \\geq 60$$\n",
        "$$x_3 \\geq 90$$\n",
        "$$x \\geq 0$$\n",
        "$$x \\in \\mathbb{Z}$$\n",
        "\n",
        "No modelo acima, $x$ é o vetor de variáveis, ou seja, $x=(x_1,x_2,x_3,x_4)$. Logo, as duas últimas restrições do modelo determinam que as quatro variáveis devem assumir valores inteiros não negativos."
      ]
    },
    {
      "cell_type": "code",
      "execution_count": null,
      "metadata": {
        "colab": {
          "base_uri": "https://localhost:8080/"
        },
        "id": "nuQ9Ve2Xxd6V",
        "outputId": "a5fe7fae-dda3-4d31-c4f5-3f55f77c3832"
      },
      "outputs": [
        {
          "name": "stdout",
          "output_type": "stream",
          "text": [
            "\\Problem name: \n",
            "\n",
            "Minimize\n",
            "OBJROW: x1 + x2 + x3 + x4\n",
            "Subject To\n",
            "constr(0):  3 x1 + x2 + x4 >= 50\n",
            "constr(1):  x2 >= 90\n",
            "constr(2):  2 x3 + x4 >= 60\n",
            "Bounds\n",
            "Integers\n",
            "x1 x2 x3 x4 \n",
            "End\n",
            "\n"
          ]
        }
      ],
      "source": [
        "model = Model(sense=MINIMIZE, solver_name=CBC)\n",
        "\n",
        "x = [None] + [model.add_var(var_type=INTEGER, name=f\"x_{i}\", lb=0) for i in range(1, 5)]\n",
        "\n",
        "model.objective = x[1] + x[2] + x[3] + x[4]\n",
        "\n",
        "model += 3*x[1] + x[2] + x[3] >= 50\n",
        "model += x[2] + 2*x[4] >= 60\n",
        "model += x[3] >= 90\n",
        "\n",
        "save(model, \"model2.lp\")"
      ]
    },
    {
      "cell_type": "code",
      "execution_count": null,
      "metadata": {
        "colab": {
          "base_uri": "https://localhost:8080/"
        },
        "id": "VfS8iPfrdZSD",
        "outputId": "0e47beb1-e46f-42a9-ce11-0391eca71660"
      },
      "outputs": [
        {
          "name": "stdout",
          "output_type": "stream",
          "text": [
            "Status =  OptimizationStatus.OPTIMAL\n",
            "Solution value  = 120.00\n",
            "\n",
            "Solution:\n",
            "x1 = 0.00\n",
            "x2 = 90.00\n",
            "x3 = 30.00\n",
            "x4 = 0.00\n"
          ]
        }
      ],
      "source": [
        "solve(model)"
      ]
    }
  ],
  "metadata": {
    "colab": {
      "include_colab_link": true,
      "provenance": []
    },
    "kernelspec": {
      "display_name": "Python 3",
      "name": "python3"
    },
    "language_info": {
      "name": "python"
    }
  },
  "nbformat": 4,
  "nbformat_minor": 0
}
