{
 "cells": [
  {
   "cell_type": "markdown",
   "id": "d8a38bf4",
   "metadata": {},
   "source": [
    "Consider the sets A = {1, 2, 3, 4, 5} and B = {3, 4, 5, 6, 7, 8}. \n",
    "Write a program that prints the constraints, “in full”, for each item below:"
   ]
  },
  {
   "cell_type": "code",
   "execution_count": null,
   "id": "081651c7",
   "metadata": {
    "vscode": {
     "languageId": "plaintext"
    }
   },
   "outputs": [],
   "source": [
    "A = [1, 2, 3, 4, 5]\n",
    "B = [3, 4, 5, 6, 7, 8]"
   ]
  },
  {
   "cell_type": "code",
   "execution_count": null,
   "id": "87a420a9",
   "metadata": {},
   "outputs": [],
   "source": [
    "print(\"I.\")\n",
    "for i in A:\n",
    "  print(f\"x_{i} <= 50\")"
   ]
  },
  {
   "cell_type": "code",
   "execution_count": null,
   "id": "84fab399",
   "metadata": {},
   "outputs": [],
   "source": [
    "print(\"II.\")\n",
    "for i in A:\n",
    "  if i > 3:\n",
    "    print(f\"x_{i} <= 50\")"
   ]
  },
  {
   "cell_type": "code",
   "execution_count": null,
   "id": "b21d6192",
   "metadata": {},
   "outputs": [],
   "source": [
    "print(\"III.\")\n",
    "sum = \"\"\n",
    "for i in A:\n",
    "  sum += f\"+ x_{i} \"\n",
    "print(f\"{sum}>=2\")"
   ]
  },
  {
   "cell_type": "code",
   "execution_count": null,
   "id": "6d47072a",
   "metadata": {},
   "outputs": [],
   "source": [
    "print(\"IV.\")\n",
    "sum_x = \"\"\n",
    "for i in A:\n",
    "  if i <= 4:\n",
    "    sum_x += f\"+ x_{i} \"\n",
    "print(f\"{sum_x}= 5\")"
   ]
  },
  {
   "cell_type": "code",
   "execution_count": null,
   "id": "811d5275",
   "metadata": {},
   "outputs": [],
   "source": [
    "print(\"V.\")\n",
    "restr = \"\"\n",
    "for j in B:\n",
    "  restr = f\"y_{j} <= \"\n",
    "  sum_x = \"\"\n",
    "  for i in A:\n",
    "    sum_x += f\"+ x_{i} \"\n",
    "  restr += sum_x\n",
    "print(restr)"
   ]
  },
  {
   "cell_type": "code",
   "execution_count": null,
   "id": "9fab59b0",
   "metadata": {},
   "outputs": [],
   "source": [
    "print(\"VI.\")\n",
    "for j in B:\n",
    "  restr = \"\"\n",
    "  if j < 3:\n",
    "    restr = f\"y_{j} = \"\n",
    "    sum_x = \"\"\n",
    "    for i in A:\n",
    "      if i < 2:\n",
    "        sum_x += f\"+ x_{i} \"\n",
    "    restr += sum_x\n",
    "    print(restr)"
   ]
  },
  {
   "cell_type": "code",
   "execution_count": null,
   "id": "44433daa",
   "metadata": {},
   "outputs": [],
   "source": [
    "print(\"VII.\")\n",
    "for i in A:\n",
    "  for j in B:\n",
    "    if i < j:\n",
    "      print(f\"z_{i}{j} >= 20\")"
   ]
  },
  {
   "cell_type": "code",
   "execution_count": null,
   "id": "3d2746bf",
   "metadata": {},
   "outputs": [],
   "source": [
    "print(\"VIII.\")\n",
    "for i in A:\n",
    "  sum_x = \"\"\n",
    "  for j in B:\n",
    "    sum_x += f\"+ z_{i}{j} \"\n",
    "print(f\"{sum_x}= 100\")"
   ]
  },
  {
   "cell_type": "code",
   "execution_count": null,
   "id": "c8b43c32",
   "metadata": {},
   "outputs": [],
   "source": [
    "print(\"IX.\")\n",
    "sum_z = \"\"\n",
    "for j in B:\n",
    "  for i in A:\n",
    "    if i > 5:\n",
    "      sum_z += f\"+ z_{i}{j} \"\n",
    "print(f\"{sum_z}<= 12\")"
   ]
  },
  {
   "cell_type": "code",
   "execution_count": null,
   "id": "13c276ab",
   "metadata": {},
   "outputs": [],
   "source": [
    "print(\"X.\")\n",
    "for i in A:\n",
    "  if i != 2:\n",
    "    sum_z = \"\"\n",
    "    for j in B:\n",
    "      if j > i:\n",
    "        sum_z += f\"+ z_{i}{j} \"\n",
    "    print(f\"{sum_z}= y_{i}\")"
   ]
  },
  {
   "cell_type": "code",
   "execution_count": null,
   "id": "3e253a0e",
   "metadata": {},
   "outputs": [],
   "source": [
    "print(\"XI.\")\n",
    "sum_z = \"\"\n",
    "for i in A:\n",
    "  for j in B:\n",
    "    if j > i:\n",
    "      sum_z += f\"+ z_{i}{j} \"\n",
    "sum_y = \"\"\n",
    "for j in B:\n",
    "  sum_y += f\"+ y_{j} \"\n",
    "print(f\"{sum_z} >= {sum_y}\")"
   ]
  },
  {
   "cell_type": "markdown",
   "id": "9a5f435b",
   "metadata": {},
   "source": [
    "Write the general form of the constraints represented by the following code blocks:"
   ]
  },
  {
   "cell_type": "code",
   "execution_count": null,
   "id": "69df189d",
   "metadata": {},
   "outputs": [],
   "source": [
    "A = [1, 2, 3, 4, 5, 6, 7]\n",
    "for i in A:\n",
    "  if i > 4:\n",
    "    print(\"x_\" + str(i) + \" \" + \"<=\" + \"40\")"
   ]
  },
  {
   "cell_type": "code",
   "execution_count": null,
   "id": "c04a2c03",
   "metadata": {},
   "outputs": [],
   "source": [
    "A = [1, 2, 3, 4]\n",
    "sum_x = \"\"\n",
    "for i in A:\n",
    "  sum_x += \"+ x_\" + str(i) + \" \"\n",
    "restr = sum_x + \"<= 9\"\n",
    "print(restr)"
   ]
  },
  {
   "cell_type": "code",
   "execution_count": null,
   "id": "4c4f1219",
   "metadata": {},
   "outputs": [],
   "source": [
    "A = [1, 2, 3, 4, 5, 6]\n",
    "B = [2, 4, 6, 8]\n",
    "for j in B:\n",
    "  sum_x = \"\"\n",
    "  for i in A:\n",
    "    sum_x += \"+ x_\" + str(i) + \" \"\n",
    "  print(\"2y_\" + str(j) + \" = \" + sum_x)"
   ]
  }
 ],
 "metadata": {
  "language_info": {
   "name": "python"
  }
 },
 "nbformat": 4,
 "nbformat_minor": 5
}
