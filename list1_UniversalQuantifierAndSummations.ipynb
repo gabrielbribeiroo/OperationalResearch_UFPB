{
 "cells": [
  {
   "cell_type": "markdown",
   "id": "d8a38bf4",
   "metadata": {},
   "source": [
    "Consider the sets A = {1, 2, 3, 4, 5} and B = {3, 4, 5, 6, 7, 8}. \n",
    "Write a program that prints the constraints, “in full”, for each item below:"
   ]
  },
  {
   "cell_type": "code",
   "execution_count": null,
   "id": "081651c7",
   "metadata": {
    "vscode": {
     "languageId": "plaintext"
    }
   },
   "outputs": [],
   "source": [
    "A = [1, 2, 3, 4, 5]\n",
    "B = [3, 4, 5, 6, 7, 8]"
   ]
  },
  {
   "cell_type": "code",
   "execution_count": null,
   "id": "87a420a9",
   "metadata": {},
   "outputs": [],
   "source": [
    "print(\"I.\")\n",
    "for i in A:\n",
    "  print(f\"x_{i} <= 50\")"
   ]
  },
  {
   "cell_type": "code",
   "execution_count": null,
   "id": "84fab399",
   "metadata": {},
   "outputs": [],
   "source": [
    "print(\"II.\")\n",
    "for i in A:\n",
    "  if i > 3:\n",
    "    print(f\"x_{i} <= 50\")"
   ]
  },
  {
   "cell_type": "code",
   "execution_count": null,
   "id": "b21d6192",
   "metadata": {},
   "outputs": [],
   "source": [
    "print(\"III.\")\n",
    "sum = \"\"\n",
    "for i in A:\n",
    "  sum += f\"+ x_{i} \"\n",
    "print(f\"{sum}>=2\")"
   ]
  }
 ],
 "metadata": {
  "language_info": {
   "name": "python"
  }
 },
 "nbformat": 4,
 "nbformat_minor": 5
}
