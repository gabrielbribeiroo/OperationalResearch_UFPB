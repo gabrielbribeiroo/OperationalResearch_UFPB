{
 "cells": [
  {
   "cell_type": "markdown",
   "id": "d8a38bf4",
   "metadata": {},
   "source": [
    "Consider the sets A = {1, 2, 3, 4, 5} and B = {3, 4, 5, 6, 7, 8}. \n",
    "Write a program that prints the constraints, “in full”, for each item below:"
   ]
  },
  {
   "cell_type": "code",
   "execution_count": null,
   "id": "081651c7",
   "metadata": {
    "vscode": {
     "languageId": "plaintext"
    }
   },
   "outputs": [],
   "source": [
    "A = [1, 2, 3, 4, 5]\n",
    "B = [3, 4, 5, 6, 7, 8]"
   ]
  },
  {
   "cell_type": "code",
   "execution_count": null,
   "id": "87a420a9",
   "metadata": {},
   "outputs": [],
   "source": [
    "print(\"I.\")\n",
    "for i in A:\n",
    "  print(f\"x_{i} <= 50\")"
   ]
  }
 ],
 "metadata": {
  "language_info": {
   "name": "python"
  }
 },
 "nbformat": 4,
 "nbformat_minor": 5
}
