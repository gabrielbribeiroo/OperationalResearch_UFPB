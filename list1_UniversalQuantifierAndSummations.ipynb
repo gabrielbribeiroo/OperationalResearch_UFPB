{
 "cells": [
  {
   "cell_type": "markdown",
   "id": "d8a38bf4",
   "metadata": {},
   "source": [
    "Consider the sets A = {1, 2, 3, 4, 5} and B = {3, 4, 5, 6, 7, 8}. \n",
    "Write a program that prints the constraints, “in full”, for each item below:"
   ]
  },
  {
   "cell_type": "code",
   "execution_count": null,
   "id": "081651c7",
   "metadata": {
    "vscode": {
     "languageId": "plaintext"
    }
   },
   "outputs": [],
   "source": [
    "A = [1, 2, 3, 4, 5]\n",
    "B = [3, 4, 5, 6, 7, 8]"
   ]
  },
  {
   "cell_type": "code",
   "execution_count": null,
   "id": "87a420a9",
   "metadata": {},
   "outputs": [],
   "source": [
    "print(\"I.\")\n",
    "for i in A:\n",
    "  print(f\"x_{i} <= 50\")"
   ]
  },
  {
   "cell_type": "code",
   "execution_count": null,
   "id": "84fab399",
   "metadata": {},
   "outputs": [],
   "source": [
    "print(\"II.\")\n",
    "for i in A:\n",
    "  if i > 3:\n",
    "    print(f\"x_{i} <= 50\")"
   ]
  },
  {
   "cell_type": "code",
   "execution_count": null,
   "id": "b21d6192",
   "metadata": {},
   "outputs": [],
   "source": [
    "print(\"III.\")\n",
    "sum = \"\"\n",
    "for i in A:\n",
    "  sum += f\"+ x_{i} \"\n",
    "print(f\"{sum}>=2\")"
   ]
  },
  {
   "cell_type": "code",
   "execution_count": null,
   "id": "6d47072a",
   "metadata": {},
   "outputs": [],
   "source": [
    "print(\"IV.\")\n",
    "sum_x = \"\"\n",
    "for i in A:\n",
    "  if i <= 4:\n",
    "    sum_x += f\"+ x_{i} \"\n",
    "print(f\"{sum_x}= 5\")"
   ]
  },
  {
   "cell_type": "code",
   "execution_count": null,
   "id": "811d5275",
   "metadata": {},
   "outputs": [],
   "source": [
    "print(\"V.\")\n",
    "restr = \"\"\n",
    "for j in B:\n",
    "  restr = f\"y_{j} <= \"\n",
    "  sum_x = \"\"\n",
    "  for i in A:\n",
    "    sum_x += f\"+ x_{i} \"\n",
    "  restr += sum_x\n",
    "print(restr)"
   ]
  },
  {
   "cell_type": "code",
   "execution_count": null,
   "id": "9fab59b0",
   "metadata": {},
   "outputs": [],
   "source": [
    "print(\"VI.\")\n",
    "for j in B:\n",
    "  restr = \"\"\n",
    "  if j < 3:\n",
    "    restr = f\"y_{j} = \"\n",
    "    sum_x = \"\"\n",
    "    for i in A:\n",
    "      if i < 2:\n",
    "        sum_x += f\"+ x_{i} \"\n",
    "    restr += sum_x\n",
    "    print(restr)"
   ]
  },
  {
   "cell_type": "code",
   "execution_count": null,
   "id": "44433daa",
   "metadata": {},
   "outputs": [],
   "source": [
    "print(\"VII.\")\n",
    "for i in A:\n",
    "  for j in B:\n",
    "    if i < j:\n",
    "      print(f\"z_{i}{j} >= 20\")"
   ]
  },
  {
   "cell_type": "code",
   "execution_count": null,
   "id": "3d2746bf",
   "metadata": {},
   "outputs": [],
   "source": [
    "print(\"VIII.\")\n",
    "for i in A:\n",
    "  sum_x = \"\"\n",
    "  for j in B:\n",
    "    sum_x += f\"+ z_{i}{j} \"\n",
    "print(f\"{sum_x}= 100\")"
   ]
  },
  {
   "cell_type": "code",
   "execution_count": null,
   "id": "c8b43c32",
   "metadata": {},
   "outputs": [],
   "source": []
  }
 ],
 "metadata": {
  "language_info": {
   "name": "python"
  }
 },
 "nbformat": 4,
 "nbformat_minor": 5
}
